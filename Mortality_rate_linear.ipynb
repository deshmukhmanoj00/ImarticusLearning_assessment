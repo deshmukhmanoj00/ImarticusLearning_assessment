{
 "cells": [
  {
   "cell_type": "markdown",
   "metadata": {},
   "source": [
    "## Mortality Rate Dataset"
   ]
  },
  {
   "cell_type": "markdown",
   "metadata": {},
   "source": [
    "-Manoj Deshmukh"
   ]
  },
  {
   "cell_type": "markdown",
   "metadata": {},
   "source": [
    "### Data Description: Data is collected by health workers from a wide range of patients. This data set consists of a variety of attributes that explains different symptoms and different immunity levels of patients."
   ]
  },
  {
   "cell_type": "markdown",
   "metadata": {},
   "source": [
    "### Goal: Build a Machine learning model that can predict the mortality rate based on different symptoms and the patient’s condition."
   ]
  },
  {
   "cell_type": "markdown",
   "metadata": {},
   "source": [
    "Import all required libraries in Jupyter Notebook"
   ]
  },
  {
   "cell_type": "code",
   "execution_count": 384,
   "metadata": {},
   "outputs": [],
   "source": [
    "import pandas as pd\n",
    "import statsmodels.api as sm\n",
    "from sklearn.model_selection import train_test_split\n",
    "from sklearn.feature_selection import f_regression as fs\n",
    "import matplotlib.pyplot as plt\n",
    "import seaborn as sns\n",
    "from sklearn import metrics"
   ]
  },
  {
   "cell_type": "markdown",
   "metadata": {},
   "source": [
    "### Load dataset"
   ]
  },
  {
   "cell_type": "markdown",
   "metadata": {},
   "source": [
    "Read the given excel file in the notebook"
   ]
  },
  {
   "cell_type": "code",
   "execution_count": 385,
   "metadata": {},
   "outputs": [],
   "source": [
    "filename=\"E:\\\\Data Analysis\\\\Python_spyder\\\\Assesment\\\\Mortality_rate\\\\training_data.xlsx\"\n",
    "mortality=pd.read_excel(filename)"
   ]
  },
  {
   "cell_type": "markdown",
   "metadata": {},
   "source": [
    "### Info about dataset"
   ]
  },
  {
   "cell_type": "markdown",
   "metadata": {},
   "source": [
    "Print top records of the dataset, to check that the dataset is correctly loaded"
   ]
  },
  {
   "cell_type": "code",
   "execution_count": 386,
   "metadata": {},
   "outputs": [
    {
     "data": {
      "text/html": [
       "<div>\n",
       "<style scoped>\n",
       "    .dataframe tbody tr th:only-of-type {\n",
       "        vertical-align: middle;\n",
       "    }\n",
       "\n",
       "    .dataframe tbody tr th {\n",
       "        vertical-align: top;\n",
       "    }\n",
       "\n",
       "    .dataframe thead th {\n",
       "        text-align: right;\n",
       "    }\n",
       "</style>\n",
       "<table border=\"1\" class=\"dataframe\">\n",
       "  <thead>\n",
       "    <tr style=\"text-align: right;\">\n",
       "      <th></th>\n",
       "      <th>ID</th>\n",
       "      <th>Severity</th>\n",
       "      <th>Ventilation</th>\n",
       "      <th>Mean Age</th>\n",
       "      <th>% Male</th>\n",
       "      <th>Any Comorbidity</th>\n",
       "      <th>Hypertension</th>\n",
       "      <th>Diabetes</th>\n",
       "      <th>Cardiovascular Disease (incl. CAD)</th>\n",
       "      <th>Chronic obstructive lung (COPD)</th>\n",
       "      <th>...</th>\n",
       "      <th>Unnamed: 81</th>\n",
       "      <th>Unnamed: 82</th>\n",
       "      <th>Unnamed: 83</th>\n",
       "      <th>Unnamed: 84</th>\n",
       "      <th>Unnamed: 85</th>\n",
       "      <th>Unnamed: 86</th>\n",
       "      <th>Unnamed: 87</th>\n",
       "      <th>Unnamed: 88</th>\n",
       "      <th>Unnamed: 89</th>\n",
       "      <th>Unnamed: 90</th>\n",
       "    </tr>\n",
       "  </thead>\n",
       "  <tbody>\n",
       "    <tr>\n",
       "      <th>0</th>\n",
       "      <td>1</td>\n",
       "      <td>All</td>\n",
       "      <td>Both</td>\n",
       "      <td>NaN</td>\n",
       "      <td>0.6230</td>\n",
       "      <td>0.4760</td>\n",
       "      <td>0.3000</td>\n",
       "      <td>0.1900</td>\n",
       "      <td>0.0800</td>\n",
       "      <td>0.0300</td>\n",
       "      <td>...</td>\n",
       "      <td>NaN</td>\n",
       "      <td>NaN</td>\n",
       "      <td>NaN</td>\n",
       "      <td>NaN</td>\n",
       "      <td>NaN</td>\n",
       "      <td>NaN</td>\n",
       "      <td>NaN</td>\n",
       "      <td>NaN</td>\n",
       "      <td>NaN</td>\n",
       "      <td>NaN</td>\n",
       "    </tr>\n",
       "    <tr>\n",
       "      <th>1</th>\n",
       "      <td>1</td>\n",
       "      <td>Severe/Critical Only</td>\n",
       "      <td>Both</td>\n",
       "      <td>NaN</td>\n",
       "      <td>0.7037</td>\n",
       "      <td>0.6667</td>\n",
       "      <td>0.4815</td>\n",
       "      <td>0.3148</td>\n",
       "      <td>0.2407</td>\n",
       "      <td>0.0741</td>\n",
       "      <td>...</td>\n",
       "      <td>NaN</td>\n",
       "      <td>NaN</td>\n",
       "      <td>NaN</td>\n",
       "      <td>NaN</td>\n",
       "      <td>NaN</td>\n",
       "      <td>NaN</td>\n",
       "      <td>NaN</td>\n",
       "      <td>NaN</td>\n",
       "      <td>NaN</td>\n",
       "      <td>NaN</td>\n",
       "    </tr>\n",
       "    <tr>\n",
       "      <th>2</th>\n",
       "      <td>1</td>\n",
       "      <td>All</td>\n",
       "      <td>Both</td>\n",
       "      <td>NaN</td>\n",
       "      <td>0.5912</td>\n",
       "      <td>0.4015</td>\n",
       "      <td>0.2336</td>\n",
       "      <td>0.1387</td>\n",
       "      <td>0.0146</td>\n",
       "      <td>0.0146</td>\n",
       "      <td>...</td>\n",
       "      <td>NaN</td>\n",
       "      <td>NaN</td>\n",
       "      <td>NaN</td>\n",
       "      <td>NaN</td>\n",
       "      <td>NaN</td>\n",
       "      <td>NaN</td>\n",
       "      <td>NaN</td>\n",
       "      <td>NaN</td>\n",
       "      <td>NaN</td>\n",
       "      <td>NaN</td>\n",
       "    </tr>\n",
       "    <tr>\n",
       "      <th>3</th>\n",
       "      <td>2</td>\n",
       "      <td>All</td>\n",
       "      <td>Both</td>\n",
       "      <td>NaN</td>\n",
       "      <td>0.6030</td>\n",
       "      <td>NaN</td>\n",
       "      <td>NaN</td>\n",
       "      <td>0.1160</td>\n",
       "      <td>NaN</td>\n",
       "      <td>NaN</td>\n",
       "      <td>...</td>\n",
       "      <td>NaN</td>\n",
       "      <td>NaN</td>\n",
       "      <td>NaN</td>\n",
       "      <td>NaN</td>\n",
       "      <td>NaN</td>\n",
       "      <td>NaN</td>\n",
       "      <td>NaN</td>\n",
       "      <td>NaN</td>\n",
       "      <td>NaN</td>\n",
       "      <td>NaN</td>\n",
       "    </tr>\n",
       "    <tr>\n",
       "      <th>4</th>\n",
       "      <td>2</td>\n",
       "      <td>All</td>\n",
       "      <td>Both</td>\n",
       "      <td>NaN</td>\n",
       "      <td>0.6160</td>\n",
       "      <td>NaN</td>\n",
       "      <td>NaN</td>\n",
       "      <td>0.1010</td>\n",
       "      <td>NaN</td>\n",
       "      <td>NaN</td>\n",
       "      <td>...</td>\n",
       "      <td>NaN</td>\n",
       "      <td>NaN</td>\n",
       "      <td>NaN</td>\n",
       "      <td>NaN</td>\n",
       "      <td>NaN</td>\n",
       "      <td>NaN</td>\n",
       "      <td>NaN</td>\n",
       "      <td>NaN</td>\n",
       "      <td>NaN</td>\n",
       "      <td>NaN</td>\n",
       "    </tr>\n",
       "  </tbody>\n",
       "</table>\n",
       "<p>5 rows × 91 columns</p>\n",
       "</div>"
      ],
      "text/plain": [
       "   ID              Severity Ventilation  Mean Age  % Male  Any Comorbidity  \\\n",
       "0   1                   All        Both       NaN  0.6230           0.4760   \n",
       "1   1  Severe/Critical Only        Both       NaN  0.7037           0.6667   \n",
       "2   1                   All        Both       NaN  0.5912           0.4015   \n",
       "3   2                   All        Both       NaN  0.6030              NaN   \n",
       "4   2                   All        Both       NaN  0.6160              NaN   \n",
       "\n",
       "   Hypertension  Diabetes  Cardiovascular Disease (incl. CAD)  \\\n",
       "0        0.3000    0.1900                              0.0800   \n",
       "1        0.4815    0.3148                              0.2407   \n",
       "2        0.2336    0.1387                              0.0146   \n",
       "3           NaN    0.1160                                 NaN   \n",
       "4           NaN    0.1010                                 NaN   \n",
       "\n",
       "   Chronic obstructive lung (COPD)  ...  Unnamed: 81  Unnamed: 82  \\\n",
       "0                           0.0300  ...          NaN          NaN   \n",
       "1                           0.0741  ...          NaN          NaN   \n",
       "2                           0.0146  ...          NaN          NaN   \n",
       "3                              NaN  ...          NaN          NaN   \n",
       "4                              NaN  ...          NaN          NaN   \n",
       "\n",
       "   Unnamed: 83  Unnamed: 84  Unnamed: 85  Unnamed: 86  Unnamed: 87  \\\n",
       "0          NaN          NaN          NaN          NaN          NaN   \n",
       "1          NaN          NaN          NaN          NaN          NaN   \n",
       "2          NaN          NaN          NaN          NaN          NaN   \n",
       "3          NaN          NaN          NaN          NaN          NaN   \n",
       "4          NaN          NaN          NaN          NaN          NaN   \n",
       "\n",
       "   Unnamed: 88  Unnamed: 89  Unnamed: 90  \n",
       "0          NaN          NaN          NaN  \n",
       "1          NaN          NaN          NaN  \n",
       "2          NaN          NaN          NaN  \n",
       "3          NaN          NaN          NaN  \n",
       "4          NaN          NaN          NaN  \n",
       "\n",
       "[5 rows x 91 columns]"
      ]
     },
     "execution_count": 386,
     "metadata": {},
     "output_type": "execute_result"
    }
   ],
   "source": [
    "mortality.head()"
   ]
  },
  {
   "cell_type": "code",
   "execution_count": 387,
   "metadata": {},
   "outputs": [
    {
     "data": {
      "text/plain": [
       "(475, 91)"
      ]
     },
     "execution_count": 387,
     "metadata": {},
     "output_type": "execute_result"
    }
   ],
   "source": [
    "mortality.shape"
   ]
  },
  {
   "cell_type": "code",
   "execution_count": 388,
   "metadata": {},
   "outputs": [
    {
     "data": {
      "text/plain": [
       "ID                                      int64\n",
       "Severity                               object\n",
       "Ventilation                            object\n",
       "Mean Age                              float64\n",
       "% Male                                float64\n",
       "Any Comorbidity                       float64\n",
       "Hypertension                          float64\n",
       "Diabetes                              float64\n",
       "Cardiovascular Disease (incl. CAD)    float64\n",
       "Chronic obstructive lung (COPD)       float64\n",
       "Cancer (Any)                          float64\n",
       "Liver Disease (any)                   float64\n",
       "Cerebrovascular Disease               float64\n",
       "Chronic kidney/renal disease          float64\n",
       "Other                                 float64\n",
       "dtype: object"
      ]
     },
     "execution_count": 388,
     "metadata": {},
     "output_type": "execute_result"
    }
   ],
   "source": [
    "(mortality.dtypes).head(15)"
   ]
  },
  {
   "cell_type": "markdown",
   "metadata": {},
   "source": [
    "Check for singularity of categorical attributes"
   ]
  },
  {
   "cell_type": "code",
   "execution_count": 389,
   "metadata": {},
   "outputs": [
    {
     "name": "stdout",
     "output_type": "stream",
     "text": [
      "Severity\n",
      "All                     211\n",
      "Severe/Critical Only    144\n",
      "Mild only                91\n",
      "Both                      5\n",
      "Mild                      2\n",
      "Severe/critical only      2\n",
      "Severe                    2\n",
      "Asymptomatic only         1\n",
      "Name: Severity, dtype: int64\n",
      " \n",
      "Ventilation\n",
      "Both                    197\n",
      "Non-ventilation only     66\n",
      "Ventilation only         19\n",
      "Yes                      12\n",
      "ΝΑ                        4\n",
      "No                        3\n",
      "Name: Ventilation, dtype: int64\n"
     ]
    }
   ],
   "source": [
    "print('Severity')\n",
    "print(mortality['Severity'].value_counts())\n",
    "print(' ')\n",
    "print('Ventilation')\n",
    "print(mortality['Ventilation'].value_counts())"
   ]
  },
  {
   "cell_type": "markdown",
   "metadata": {},
   "source": [
    "Drop insignificant features"
   ]
  },
  {
   "cell_type": "code",
   "execution_count": 390,
   "metadata": {},
   "outputs": [],
   "source": [
    "mortality=mortality.drop(['ID'],axis=1)"
   ]
  },
  {
   "cell_type": "markdown",
   "metadata": {},
   "source": [
    "### Data cleansing"
   ]
  },
  {
   "cell_type": "markdown",
   "metadata": {},
   "source": [
    "Check for Null values in all attributes"
   ]
  },
  {
   "cell_type": "code",
   "execution_count": 391,
   "metadata": {
    "scrolled": true
   },
   "outputs": [
    {
     "name": "stdout",
     "output_type": "stream",
     "text": [
      "Shape of dataset: (475, 90)\n"
     ]
    },
    {
     "data": {
      "text/plain": [
       "Severity                               3.578947\n",
       "Ventilation                           36.631579\n",
       "Mean Age                              46.947368\n",
       "% Male                                 9.473684\n",
       "Any Comorbidity                       53.263158\n",
       "Hypertension                          34.947368\n",
       "Diabetes                              31.578947\n",
       "Cardiovascular Disease (incl. CAD)    37.894737\n",
       "Chronic obstructive lung (COPD)       44.842105\n",
       "Cancer (Any)                          50.947368\n",
       "Liver Disease (any)                   59.578947\n",
       "Cerebrovascular Disease               63.578947\n",
       "Chronic kidney/renal disease          47.368421\n",
       "Other                                 58.105263\n",
       "Fever (temperature ≥37·3°C)           25.052632\n",
       "dtype: float64"
      ]
     },
     "execution_count": 391,
     "metadata": {},
     "output_type": "execute_result"
    }
   ],
   "source": [
    "mortality.isnull().sum()\n",
    "print('Shape of dataset:', mortality.shape)\n",
    "(mortality.isnull().sum() * 100 / len(mortality)).head(15)"
   ]
  },
  {
   "cell_type": "markdown",
   "metadata": {},
   "source": [
    "Most of the dataset contains attributes with more than 75% of Null values and replacing huge amount of data is not good for our model.\n",
    "So, we will remove those columns containing more than 75% Null values"
   ]
  },
  {
   "cell_type": "code",
   "execution_count": 392,
   "metadata": {
    "scrolled": true
   },
   "outputs": [
    {
     "name": "stdout",
     "output_type": "stream",
     "text": [
      "Shape after first Null removal operation: (475, 45)\n"
     ]
    },
    {
     "data": {
      "text/plain": [
       "Lymphocyte Count (10^9/L) - Median    39.157895\n",
       "Lymphocyte Count (10^9/L) - LQ        50.105263\n",
       "Lymphocyte Count (10^9/L) - UQ        50.105263\n",
       "Platelet Count (10^9/L) - Median      62.105263\n",
       "Platelet Count (10^9/L) - LQ          65.894737\n",
       "Platelet Count (10^9/L) - UQ          65.894737\n",
       "Hemoglobin (g/L) - Median             71.789474\n",
       "Hemoglobin (g/L) - LQ                 74.105263\n",
       "Hemoglobin (g/L) - UQ                 74.105263\n",
       "Alanine Aminotransferase (U/L)        61.263158\n",
       "Aspartate Aminotransferase (U/L)      62.947368\n",
       "Antibiotic                            68.842105\n",
       "Antiviral (Any)                       58.105263\n",
       "Hospital length of stay, days         61.473684\n",
       "Mortality                              0.000000\n",
       "dtype: float64"
      ]
     },
     "execution_count": 392,
     "metadata": {},
     "output_type": "execute_result"
    }
   ],
   "source": [
    "column_with_nan = mortality.columns[mortality.isnull().any()]\n",
    "\n",
    "for column in column_with_nan:\n",
    "    if mortality[column].isnull().sum()*100.0/mortality.shape[0] > 75:\n",
    "        mortality.drop(column,1, inplace=True)\n",
    "\n",
    "print('Shape after first Null removal operation:', mortality.shape)\n",
    "(mortality.isnull().sum() * 100 / len(mortality)).tail(15)"
   ]
  },
  {
   "cell_type": "markdown",
   "metadata": {},
   "source": [
    "first use forward fill to replace null values, by directly replacing null with mean ,mode or median will create bias in the dataset as most of the values have more than half of the data as null"
   ]
  },
  {
   "cell_type": "code",
   "execution_count": 393,
   "metadata": {
    "scrolled": false
   },
   "outputs": [
    {
     "data": {
      "text/plain": [
       "Lymphocyte Count (10^9/L) - Median    0.000000\n",
       "Lymphocyte Count (10^9/L) - LQ        0.000000\n",
       "Lymphocyte Count (10^9/L) - UQ        0.000000\n",
       "Platelet Count (10^9/L) - Median      0.000000\n",
       "Platelet Count (10^9/L) - LQ          0.000000\n",
       "Platelet Count (10^9/L) - UQ          0.000000\n",
       "Hemoglobin (g/L) - Median             0.000000\n",
       "Hemoglobin (g/L) - LQ                 0.000000\n",
       "Hemoglobin (g/L) - UQ                 0.000000\n",
       "Alanine Aminotransferase (U/L)        0.000000\n",
       "Aspartate Aminotransferase (U/L)      0.631579\n",
       "Antibiotic                            0.000000\n",
       "Antiviral (Any)                       0.000000\n",
       "Hospital length of stay, days         0.000000\n",
       "Mortality                             0.000000\n",
       "dtype: float64"
      ]
     },
     "execution_count": 393,
     "metadata": {},
     "output_type": "execute_result"
    }
   ],
   "source": [
    "mortality.fillna( method ='ffill', inplace = True)\n",
    "(mortality.isnull().sum() * 100 / len(mortality)).tail(15)"
   ]
  },
  {
   "cell_type": "markdown",
   "metadata": {},
   "source": [
    "Still some of the columns contain null values in the dataset"
   ]
  },
  {
   "cell_type": "code",
   "execution_count": 394,
   "metadata": {
    "scrolled": true
   },
   "outputs": [
    {
     "data": {
      "text/plain": [
       "['Mean Age',\n",
       " 'Liver Disease (any)',\n",
       " 'Cerebrovascular Disease',\n",
       " 'Shortness of Breath (dyspnoea)',\n",
       " 'Headache',\n",
       " 'Disease Severity Asymptomatic',\n",
       " 'Aspartate Aminotransferase (U/L)']"
      ]
     },
     "execution_count": 394,
     "metadata": {},
     "output_type": "execute_result"
    }
   ],
   "source": [
    "na = mortality.isnull().any()\n",
    "nullCols = na.index[na].tolist()\n",
    "nullCols"
   ]
  },
  {
   "cell_type": "markdown",
   "metadata": {},
   "source": [
    "Replace null values by taking mean of perticular column"
   ]
  },
  {
   "cell_type": "code",
   "execution_count": 395,
   "metadata": {},
   "outputs": [
    {
     "data": {
      "text/plain": [
       "Lymphocyte Count (10^9/L) - Median    0.0\n",
       "Lymphocyte Count (10^9/L) - LQ        0.0\n",
       "Lymphocyte Count (10^9/L) - UQ        0.0\n",
       "Platelet Count (10^9/L) - Median      0.0\n",
       "Platelet Count (10^9/L) - LQ          0.0\n",
       "Platelet Count (10^9/L) - UQ          0.0\n",
       "Hemoglobin (g/L) - Median             0.0\n",
       "Hemoglobin (g/L) - LQ                 0.0\n",
       "Hemoglobin (g/L) - UQ                 0.0\n",
       "Alanine Aminotransferase (U/L)        0.0\n",
       "Aspartate Aminotransferase (U/L)      0.0\n",
       "Antibiotic                            0.0\n",
       "Antiviral (Any)                       0.0\n",
       "Hospital length of stay, days         0.0\n",
       "Mortality                             0.0\n",
       "dtype: float64"
      ]
     },
     "execution_count": 395,
     "metadata": {},
     "output_type": "execute_result"
    }
   ],
   "source": [
    "column_means = mortality.mean()\n",
    "mortality = mortality.fillna(column_means)\n",
    "(mortality.isnull().sum() * 100 / len(mortality)).tail(15)"
   ]
  },
  {
   "cell_type": "markdown",
   "metadata": {},
   "source": [
    "###### From above output it is clear that dataset now has no Nulls"
   ]
  },
  {
   "cell_type": "markdown",
   "metadata": {},
   "source": [
    "By observing the data, we can see that data has some insignifiant values as 'NA', 'na' and '0%%', So replace these values by mode of that column."
   ]
  },
  {
   "cell_type": "code",
   "execution_count": 396,
   "metadata": {
    "scrolled": false
   },
   "outputs": [
    {
     "name": "stdout",
     "output_type": "stream",
     "text": [
      "Both                    321\n",
      "Non-ventilation only     89\n",
      "Ventilation only         44\n",
      "Yes                      12\n",
      "ΝΑ                        6\n",
      "No                        3\n",
      "Name: Ventilation, dtype: int64\n",
      "\n",
      "After replacing\n",
      "Both                    327\n",
      "Non-ventilation only     89\n",
      "Ventilation only         44\n",
      "Yes                      12\n",
      "No                        3\n",
      "Name: Ventilation, dtype: int64\n"
     ]
    }
   ],
   "source": [
    "print(mortality['Ventilation'].value_counts())\n",
    "mortality['Ventilation'].mode()\n",
    "mortality['Ventilation'].replace({\"ΝΑ\":'Both'}, inplace=True)\n",
    "print('')\n",
    "print('After replacing')\n",
    "print(mortality['Ventilation'].value_counts())"
   ]
  },
  {
   "cell_type": "code",
   "execution_count": 397,
   "metadata": {},
   "outputs": [],
   "source": [
    "# replace na by mode, in Hospital length of stay, days column and convert to float\n",
    "mortality.dtypes\n",
    "mortality[\"Hospital length of stay, days\"].replace({\"na\":'12'}, inplace=True)\n",
    "mortality['Hospital length of stay, days'] = mortality['Hospital length of stay, days'].astype('float64')\n",
    "\n",
    "# replace na by 0, in Mortality column\n",
    "mortality[\"Mortality\"].replace({\"na\":'0'}, inplace=True)\n",
    "mortality[\"Mortality\"].replace({\"0%%\":'0'}, inplace=True)\n",
    "mortality['Mortality'] = mortality['Mortality'].astype('float64')"
   ]
  },
  {
   "cell_type": "markdown",
   "metadata": {},
   "source": [
    "Summarise the dataset"
   ]
  },
  {
   "cell_type": "code",
   "execution_count": 398,
   "metadata": {
    "scrolled": false
   },
   "outputs": [
    {
     "data": {
      "text/html": [
       "<div>\n",
       "<style scoped>\n",
       "    .dataframe tbody tr th:only-of-type {\n",
       "        vertical-align: middle;\n",
       "    }\n",
       "\n",
       "    .dataframe tbody tr th {\n",
       "        vertical-align: top;\n",
       "    }\n",
       "\n",
       "    .dataframe thead th {\n",
       "        text-align: right;\n",
       "    }\n",
       "</style>\n",
       "<table border=\"1\" class=\"dataframe\">\n",
       "  <thead>\n",
       "    <tr style=\"text-align: right;\">\n",
       "      <th></th>\n",
       "      <th>Mean Age</th>\n",
       "      <th>% Male</th>\n",
       "      <th>Any Comorbidity</th>\n",
       "      <th>Hypertension</th>\n",
       "      <th>Diabetes</th>\n",
       "      <th>Cardiovascular Disease (incl. CAD)</th>\n",
       "      <th>Chronic obstructive lung (COPD)</th>\n",
       "      <th>Cancer (Any)</th>\n",
       "      <th>Liver Disease (any)</th>\n",
       "      <th>Cerebrovascular Disease</th>\n",
       "      <th>...</th>\n",
       "      <th>Platelet Count (10^9/L) - UQ</th>\n",
       "      <th>Hemoglobin (g/L) - Median</th>\n",
       "      <th>Hemoglobin (g/L) - LQ</th>\n",
       "      <th>Hemoglobin (g/L) - UQ</th>\n",
       "      <th>Alanine Aminotransferase (U/L)</th>\n",
       "      <th>Aspartate Aminotransferase (U/L)</th>\n",
       "      <th>Antibiotic</th>\n",
       "      <th>Antiviral (Any)</th>\n",
       "      <th>Hospital length of stay, days</th>\n",
       "      <th>Mortality</th>\n",
       "    </tr>\n",
       "  </thead>\n",
       "  <tbody>\n",
       "    <tr>\n",
       "      <th>count</th>\n",
       "      <td>475.000000</td>\n",
       "      <td>475.000000</td>\n",
       "      <td>475.000000</td>\n",
       "      <td>475.000000</td>\n",
       "      <td>475.000000</td>\n",
       "      <td>475.000000</td>\n",
       "      <td>475.000000</td>\n",
       "      <td>475.000000</td>\n",
       "      <td>475.000000</td>\n",
       "      <td>475.000000</td>\n",
       "      <td>...</td>\n",
       "      <td>475.000000</td>\n",
       "      <td>475.000000</td>\n",
       "      <td>475.000000</td>\n",
       "      <td>475.000000</td>\n",
       "      <td>475.0000</td>\n",
       "      <td>475.000000</td>\n",
       "      <td>475.000000</td>\n",
       "      <td>475.000000</td>\n",
       "      <td>475.000000</td>\n",
       "      <td>475.000000</td>\n",
       "    </tr>\n",
       "    <tr>\n",
       "      <th>mean</th>\n",
       "      <td>52.534459</td>\n",
       "      <td>0.552919</td>\n",
       "      <td>0.470121</td>\n",
       "      <td>0.300028</td>\n",
       "      <td>0.147736</td>\n",
       "      <td>0.137436</td>\n",
       "      <td>0.070752</td>\n",
       "      <td>0.092709</td>\n",
       "      <td>0.045248</td>\n",
       "      <td>0.076061</td>\n",
       "      <td>...</td>\n",
       "      <td>224.002400</td>\n",
       "      <td>116.133411</td>\n",
       "      <td>102.290695</td>\n",
       "      <td>121.192905</td>\n",
       "      <td>31.8708</td>\n",
       "      <td>35.830975</td>\n",
       "      <td>0.692735</td>\n",
       "      <td>0.873492</td>\n",
       "      <td>14.938758</td>\n",
       "      <td>0.187305</td>\n",
       "    </tr>\n",
       "    <tr>\n",
       "      <th>std</th>\n",
       "      <td>19.215927</td>\n",
       "      <td>0.253803</td>\n",
       "      <td>0.340182</td>\n",
       "      <td>0.269992</td>\n",
       "      <td>0.177974</td>\n",
       "      <td>0.214599</td>\n",
       "      <td>0.154888</td>\n",
       "      <td>0.232856</td>\n",
       "      <td>0.074087</td>\n",
       "      <td>0.279208</td>\n",
       "      <td>...</td>\n",
       "      <td>43.534926</td>\n",
       "      <td>39.834726</td>\n",
       "      <td>44.138431</td>\n",
       "      <td>49.573382</td>\n",
       "      <td>18.5842</td>\n",
       "      <td>16.930652</td>\n",
       "      <td>0.380815</td>\n",
       "      <td>0.250336</td>\n",
       "      <td>7.649518</td>\n",
       "      <td>0.323059</td>\n",
       "    </tr>\n",
       "    <tr>\n",
       "      <th>min</th>\n",
       "      <td>0.170000</td>\n",
       "      <td>0.000000</td>\n",
       "      <td>0.000000</td>\n",
       "      <td>0.000000</td>\n",
       "      <td>0.000000</td>\n",
       "      <td>0.000000</td>\n",
       "      <td>0.000000</td>\n",
       "      <td>0.000000</td>\n",
       "      <td>0.000000</td>\n",
       "      <td>0.000000</td>\n",
       "      <td>...</td>\n",
       "      <td>86.000000</td>\n",
       "      <td>6.710000</td>\n",
       "      <td>0.000000</td>\n",
       "      <td>13.200000</td>\n",
       "      <td>6.0000</td>\n",
       "      <td>16.000000</td>\n",
       "      <td>0.000000</td>\n",
       "      <td>0.000000</td>\n",
       "      <td>0.000000</td>\n",
       "      <td>0.000000</td>\n",
       "    </tr>\n",
       "    <tr>\n",
       "      <th>25%</th>\n",
       "      <td>41.000000</td>\n",
       "      <td>0.458150</td>\n",
       "      <td>0.219000</td>\n",
       "      <td>0.111000</td>\n",
       "      <td>0.000000</td>\n",
       "      <td>0.000000</td>\n",
       "      <td>0.000000</td>\n",
       "      <td>0.000000</td>\n",
       "      <td>0.000000</td>\n",
       "      <td>0.000000</td>\n",
       "      <td>...</td>\n",
       "      <td>202.000000</td>\n",
       "      <td>122.700000</td>\n",
       "      <td>101.950000</td>\n",
       "      <td>131.300000</td>\n",
       "      <td>23.8000</td>\n",
       "      <td>27.000000</td>\n",
       "      <td>0.431650</td>\n",
       "      <td>0.842000</td>\n",
       "      <td>11.000000</td>\n",
       "      <td>0.000000</td>\n",
       "    </tr>\n",
       "    <tr>\n",
       "      <th>50%</th>\n",
       "      <td>53.000000</td>\n",
       "      <td>0.547000</td>\n",
       "      <td>0.401500</td>\n",
       "      <td>0.237000</td>\n",
       "      <td>0.114000</td>\n",
       "      <td>0.075000</td>\n",
       "      <td>0.027800</td>\n",
       "      <td>0.009200</td>\n",
       "      <td>0.029000</td>\n",
       "      <td>0.026000</td>\n",
       "      <td>...</td>\n",
       "      <td>219.000000</td>\n",
       "      <td>130.000000</td>\n",
       "      <td>119.000000</td>\n",
       "      <td>143.930000</td>\n",
       "      <td>28.0000</td>\n",
       "      <td>32.000000</td>\n",
       "      <td>0.909000</td>\n",
       "      <td>1.000000</td>\n",
       "      <td>15.000000</td>\n",
       "      <td>0.000000</td>\n",
       "    </tr>\n",
       "    <tr>\n",
       "      <th>75%</th>\n",
       "      <td>64.000000</td>\n",
       "      <td>0.680000</td>\n",
       "      <td>0.734000</td>\n",
       "      <td>0.444400</td>\n",
       "      <td>0.210250</td>\n",
       "      <td>0.160500</td>\n",
       "      <td>0.080000</td>\n",
       "      <td>0.057500</td>\n",
       "      <td>0.056000</td>\n",
       "      <td>0.080000</td>\n",
       "      <td>...</td>\n",
       "      <td>249.950000</td>\n",
       "      <td>137.000000</td>\n",
       "      <td>128.000000</td>\n",
       "      <td>151.000000</td>\n",
       "      <td>34.2700</td>\n",
       "      <td>38.100000</td>\n",
       "      <td>1.000000</td>\n",
       "      <td>1.000000</td>\n",
       "      <td>18.150000</td>\n",
       "      <td>0.230000</td>\n",
       "    </tr>\n",
       "    <tr>\n",
       "      <th>max</th>\n",
       "      <td>100.000000</td>\n",
       "      <td>1.000000</td>\n",
       "      <td>1.000000</td>\n",
       "      <td>1.000000</td>\n",
       "      <td>1.000000</td>\n",
       "      <td>1.000000</td>\n",
       "      <td>1.000000</td>\n",
       "      <td>1.000000</td>\n",
       "      <td>1.000000</td>\n",
       "      <td>5.600000</td>\n",
       "      <td>...</td>\n",
       "      <td>503.000000</td>\n",
       "      <td>163.000000</td>\n",
       "      <td>163.000000</td>\n",
       "      <td>163.000000</td>\n",
       "      <td>172.0000</td>\n",
       "      <td>219.200000</td>\n",
       "      <td>1.000000</td>\n",
       "      <td>1.000000</td>\n",
       "      <td>55.000000</td>\n",
       "      <td>1.000000</td>\n",
       "    </tr>\n",
       "  </tbody>\n",
       "</table>\n",
       "<p>8 rows × 43 columns</p>\n",
       "</div>"
      ],
      "text/plain": [
       "         Mean Age      % Male  Any Comorbidity  Hypertension    Diabetes  \\\n",
       "count  475.000000  475.000000       475.000000    475.000000  475.000000   \n",
       "mean    52.534459    0.552919         0.470121      0.300028    0.147736   \n",
       "std     19.215927    0.253803         0.340182      0.269992    0.177974   \n",
       "min      0.170000    0.000000         0.000000      0.000000    0.000000   \n",
       "25%     41.000000    0.458150         0.219000      0.111000    0.000000   \n",
       "50%     53.000000    0.547000         0.401500      0.237000    0.114000   \n",
       "75%     64.000000    0.680000         0.734000      0.444400    0.210250   \n",
       "max    100.000000    1.000000         1.000000      1.000000    1.000000   \n",
       "\n",
       "       Cardiovascular Disease (incl. CAD)  Chronic obstructive lung (COPD)  \\\n",
       "count                          475.000000                       475.000000   \n",
       "mean                             0.137436                         0.070752   \n",
       "std                              0.214599                         0.154888   \n",
       "min                              0.000000                         0.000000   \n",
       "25%                              0.000000                         0.000000   \n",
       "50%                              0.075000                         0.027800   \n",
       "75%                              0.160500                         0.080000   \n",
       "max                              1.000000                         1.000000   \n",
       "\n",
       "       Cancer (Any)  Liver Disease (any)  Cerebrovascular Disease  ...  \\\n",
       "count    475.000000           475.000000               475.000000  ...   \n",
       "mean       0.092709             0.045248                 0.076061  ...   \n",
       "std        0.232856             0.074087                 0.279208  ...   \n",
       "min        0.000000             0.000000                 0.000000  ...   \n",
       "25%        0.000000             0.000000                 0.000000  ...   \n",
       "50%        0.009200             0.029000                 0.026000  ...   \n",
       "75%        0.057500             0.056000                 0.080000  ...   \n",
       "max        1.000000             1.000000                 5.600000  ...   \n",
       "\n",
       "       Platelet Count (10^9/L) - UQ  Hemoglobin (g/L) - Median  \\\n",
       "count                    475.000000                 475.000000   \n",
       "mean                     224.002400                 116.133411   \n",
       "std                       43.534926                  39.834726   \n",
       "min                       86.000000                   6.710000   \n",
       "25%                      202.000000                 122.700000   \n",
       "50%                      219.000000                 130.000000   \n",
       "75%                      249.950000                 137.000000   \n",
       "max                      503.000000                 163.000000   \n",
       "\n",
       "       Hemoglobin (g/L) - LQ  Hemoglobin (g/L) - UQ  \\\n",
       "count             475.000000             475.000000   \n",
       "mean              102.290695             121.192905   \n",
       "std                44.138431              49.573382   \n",
       "min                 0.000000              13.200000   \n",
       "25%               101.950000             131.300000   \n",
       "50%               119.000000             143.930000   \n",
       "75%               128.000000             151.000000   \n",
       "max               163.000000             163.000000   \n",
       "\n",
       "       Alanine Aminotransferase (U/L)  Aspartate Aminotransferase (U/L)  \\\n",
       "count                        475.0000                        475.000000   \n",
       "mean                          31.8708                         35.830975   \n",
       "std                           18.5842                         16.930652   \n",
       "min                            6.0000                         16.000000   \n",
       "25%                           23.8000                         27.000000   \n",
       "50%                           28.0000                         32.000000   \n",
       "75%                           34.2700                         38.100000   \n",
       "max                          172.0000                        219.200000   \n",
       "\n",
       "       Antibiotic  Antiviral (Any)  Hospital length of stay, days   Mortality  \n",
       "count  475.000000       475.000000                     475.000000  475.000000  \n",
       "mean     0.692735         0.873492                      14.938758    0.187305  \n",
       "std      0.380815         0.250336                       7.649518    0.323059  \n",
       "min      0.000000         0.000000                       0.000000    0.000000  \n",
       "25%      0.431650         0.842000                      11.000000    0.000000  \n",
       "50%      0.909000         1.000000                      15.000000    0.000000  \n",
       "75%      1.000000         1.000000                      18.150000    0.230000  \n",
       "max      1.000000         1.000000                      55.000000    1.000000  \n",
       "\n",
       "[8 rows x 43 columns]"
      ]
     },
     "execution_count": 398,
     "metadata": {},
     "output_type": "execute_result"
    }
   ],
   "source": [
    "mortality.describe()"
   ]
  },
  {
   "cell_type": "markdown",
   "metadata": {},
   "source": [
    "Check for correlation"
   ]
  },
  {
   "cell_type": "code",
   "execution_count": 399,
   "metadata": {},
   "outputs": [
    {
     "data": {
      "text/plain": [
       "<matplotlib.axes._subplots.AxesSubplot at 0x268476ed048>"
      ]
     },
     "execution_count": 399,
     "metadata": {},
     "output_type": "execute_result"
    },
    {
     "data": {
      "image/png": "[encoded data removed]",
      "text/plain": [
       "<Figure size 1080x1080 with 2 Axes>"
      ]
     },
     "metadata": {
      "needs_background": "light"
     },
     "output_type": "display_data"
    }
   ],
   "source": [
    "totalcols=len(mortality.columns)\n",
    "corrMatrix = mortality.iloc[:,2:22].corr()\n",
    "plt.figure(figsize=(15,15))\n",
    "sns.heatmap(corrMatrix, annot=True)"
   ]
  },
  {
   "cell_type": "markdown",
   "metadata": {},
   "source": [
    "###### from above heatmap we can clearly see most of the attributes are not much correlated, so we cannot use PCA to reduce dimenstionality in the dataset"
   ]
  },
  {
   "cell_type": "code",
   "execution_count": 400,
   "metadata": {},
   "outputs": [
    {
     "name": "stdout",
     "output_type": "stream",
     "text": [
      "3\n",
      "['Lymphocyte Count (10^9/L) - LQ', 'Lymphocyte Count (10^9/L) - UQ', 'Hemoglobin (g/L) - UQ']\n"
     ]
    }
   ],
   "source": [
    "corr_matrix = mortality.corr().abs()\n",
    "\n",
    "# Select upper triangle of correlation matrix\n",
    "upper = corr_matrix.where(np.triu(np.ones(corr_matrix.shape), k=1).astype(np.bool))\n",
    "\n",
    "# Find features with correlation greater than 0.8\n",
    "to_drop = [column for column in upper.columns if any(upper[column] > 0.80)]\n",
    "\n",
    "print(len(to_drop))\n",
    "print(to_drop)"
   ]
  },
  {
   "cell_type": "markdown",
   "metadata": {},
   "source": [
    "Drop columns which are highly correlated, as high correlation is not good for model building. "
   ]
  },
  {
   "cell_type": "code",
   "execution_count": 401,
   "metadata": {},
   "outputs": [
    {
     "name": "stdout",
     "output_type": "stream",
     "text": [
      "Final Shape of the Dataset: (475, 42)\n"
     ]
    }
   ],
   "source": [
    "mortality.drop(to_drop, axis=1, inplace=True)\n",
    "print('Final Shape of the Dataset:', mortality.shape)"
   ]
  },
  {
   "cell_type": "markdown",
   "metadata": {},
   "source": [
    "### Dummy variables"
   ]
  },
  {
   "cell_type": "markdown",
   "metadata": {},
   "source": [
    "Create dummy variables as linear regression cannot handle categorical variabls directly"
   ]
  },
  {
   "cell_type": "code",
   "execution_count": 402,
   "metadata": {},
   "outputs": [
    {
     "data": {
      "text/plain": [
       "(475, 53)"
      ]
     },
     "execution_count": 402,
     "metadata": {},
     "output_type": "execute_result"
    }
   ],
   "source": [
    "mortality=pd.get_dummies(mortality)\n",
    "mortality.shape\n",
    "mortality.dtypes\n",
    "\n",
    "import warnings\n",
    "warnings.filterwarnings('ignore')\n",
    "\n",
    "# relocate y-variable Mortality as last column\n",
    "totalcols=len(mortality.columns)\n",
    "idx=mortality.columns.get_loc(\"Mortality\")\n",
    "mort=mortality.iloc[:,idx]\n",
    "mortality=mortality.drop(['Mortality'],axis=1)\n",
    "mortality['Mortality']=mort\n",
    "mortality.shape"
   ]
  },
  {
   "cell_type": "markdown",
   "metadata": {},
   "source": [
    "### Model building"
   ]
  },
  {
   "cell_type": "markdown",
   "metadata": {},
   "source": [
    "Split the dataset into independent and dependent variables, and then into training and validation dataset"
   ]
  },
  {
   "cell_type": "code",
   "execution_count": 403,
   "metadata": {},
   "outputs": [
    {
     "name": "stdout",
     "output_type": "stream",
     "text": [
      "train=(332, 53),test=(143, 53)\n",
      "trainX=(332, 52),trainY=(332,),testX=(143, 52),testY=(143,)\n"
     ]
    }
   ],
   "source": [
    "train,test=train_test_split(mortality,test_size=0.3)\n",
    "print('train={},test={}'.format(train.shape,test.shape))\n",
    "\n",
    "totalcols=len(mortality.columns)\n",
    "\n",
    "# split the training data into train/test\n",
    "trainX=train.iloc[:,0:totalcols-1]\n",
    "trainY=train.iloc[:,totalcols-1]\n",
    "\n",
    "testX=test.iloc[:,0:totalcols-1]\n",
    "testY=test.iloc[:,totalcols-1]\n",
    "\n",
    "print('trainX={},trainY={},testX={},testY={}'.format(trainX.shape,trainY.shape,testX.shape,testY.shape))"
   ]
  },
  {
   "cell_type": "markdown",
   "metadata": {},
   "source": [
    "Add constant term to the independent variables as sm.OLS does'nt add constant directly into the model building, So we need to add constant manually"
   ]
  },
  {
   "cell_type": "code",
   "execution_count": 404,
   "metadata": {},
   "outputs": [],
   "source": [
    "trainX=sm.add_constant(trainX)\n",
    "testX=sm.add_constant(testX)"
   ]
  },
  {
   "cell_type": "markdown",
   "metadata": {},
   "source": [
    "Build the model using linear regression algorithm"
   ]
  },
  {
   "cell_type": "code",
   "execution_count": 405,
   "metadata": {},
   "outputs": [],
   "source": [
    "base_model=sm.OLS(trainY,trainX).fit()"
   ]
  },
  {
   "cell_type": "markdown",
   "metadata": {},
   "source": [
    "Get summary of the base model"
   ]
  },
  {
   "cell_type": "code",
   "execution_count": 406,
   "metadata": {},
   "outputs": [
    {
     "data": {
      "text/html": [
       "<table class=\"simpletable\">\n",
       "<caption>OLS Regression Results</caption>\n",
       "<tr>\n",
       "  <th>Dep. Variable:</th>        <td>Mortality</td>    <th>  R-squared:         </th> <td>   0.599</td>\n",
       "</tr>\n",
       "<tr>\n",
       "  <th>Model:</th>                   <td>OLS</td>       <th>  Adj. R-squared:    </th> <td>   0.527</td>\n",
       "</tr>\n",
       "<tr>\n",
       "  <th>Method:</th>             <td>Least Squares</td>  <th>  F-statistic:       </th> <td>   8.389</td>\n",
       "</tr>\n",
       "<tr>\n",
       "  <th>Date:</th>             <td>Mon, 14 Sep 2020</td> <th>  Prob (F-statistic):</th> <td>4.02e-33</td>\n",
       "</tr>\n",
       "<tr>\n",
       "  <th>Time:</th>                 <td>15:04:00</td>     <th>  Log-Likelihood:    </th> <td>  73.924</td>\n",
       "</tr>\n",
       "<tr>\n",
       "  <th>No. Observations:</th>      <td>   332</td>      <th>  AIC:               </th> <td>  -45.85</td>\n",
       "</tr>\n",
       "<tr>\n",
       "  <th>Df Residuals:</th>          <td>   281</td>      <th>  BIC:               </th> <td>   148.2</td>\n",
       "</tr>\n",
       "<tr>\n",
       "  <th>Df Model:</th>              <td>    50</td>      <th>                     </th>     <td> </td>   \n",
       "</tr>\n",
       "<tr>\n",
       "  <th>Covariance Type:</th>      <td>nonrobust</td>    <th>                     </th>     <td> </td>   \n",
       "</tr>\n",
       "</table>\n",
       "<table class=\"simpletable\">\n",
       "<tr>\n",
       "                      <td></td>                        <th>coef</th>     <th>std err</th>      <th>t</th>      <th>P>|t|</th>  <th>[0.025</th>    <th>0.975]</th>  \n",
       "</tr>\n",
       "<tr>\n",
       "  <th>const</th>                                    <td>   -0.0094</td> <td>    0.139</td> <td>   -0.067</td> <td> 0.946</td> <td>   -0.284</td> <td>    0.265</td>\n",
       "</tr>\n",
       "<tr>\n",
       "  <th>Mean Age</th>                                 <td>    0.0014</td> <td>    0.001</td> <td>    1.703</td> <td> 0.090</td> <td>   -0.000</td> <td>    0.003</td>\n",
       "</tr>\n",
       "<tr>\n",
       "  <th>% Male</th>                                   <td>   -0.0484</td> <td>    0.054</td> <td>   -0.899</td> <td> 0.370</td> <td>   -0.154</td> <td>    0.058</td>\n",
       "</tr>\n",
       "<tr>\n",
       "  <th>Any Comorbidity</th>                          <td>    0.1024</td> <td>    0.051</td> <td>    2.002</td> <td> 0.046</td> <td>    0.002</td> <td>    0.203</td>\n",
       "</tr>\n",
       "<tr>\n",
       "  <th>Hypertension</th>                             <td>    0.1540</td> <td>    0.058</td> <td>    2.648</td> <td> 0.009</td> <td>    0.040</td> <td>    0.268</td>\n",
       "</tr>\n",
       "<tr>\n",
       "  <th>Diabetes</th>                                 <td>   -0.0232</td> <td>    0.089</td> <td>   -0.260</td> <td> 0.795</td> <td>   -0.199</td> <td>    0.153</td>\n",
       "</tr>\n",
       "<tr>\n",
       "  <th>Cardiovascular Disease (incl. CAD)</th>       <td>    0.1088</td> <td>    0.076</td> <td>    1.441</td> <td> 0.151</td> <td>   -0.040</td> <td>    0.257</td>\n",
       "</tr>\n",
       "<tr>\n",
       "  <th>Chronic obstructive lung (COPD)</th>          <td>   -0.0293</td> <td>    0.091</td> <td>   -0.321</td> <td> 0.749</td> <td>   -0.209</td> <td>    0.150</td>\n",
       "</tr>\n",
       "<tr>\n",
       "  <th>Cancer (Any)</th>                             <td>    0.0359</td> <td>    0.069</td> <td>    0.520</td> <td> 0.604</td> <td>   -0.100</td> <td>    0.172</td>\n",
       "</tr>\n",
       "<tr>\n",
       "  <th>Liver Disease (any)</th>                      <td>   -0.6655</td> <td>    0.258</td> <td>   -2.581</td> <td> 0.010</td> <td>   -1.173</td> <td>   -0.158</td>\n",
       "</tr>\n",
       "<tr>\n",
       "  <th>Cerebrovascular Disease</th>                  <td>   -0.0650</td> <td>    0.137</td> <td>   -0.475</td> <td> 0.635</td> <td>   -0.334</td> <td>    0.204</td>\n",
       "</tr>\n",
       "<tr>\n",
       "  <th>Chronic kidney/renal disease</th>             <td>    0.3521</td> <td>    0.132</td> <td>    2.665</td> <td> 0.008</td> <td>    0.092</td> <td>    0.612</td>\n",
       "</tr>\n",
       "<tr>\n",
       "  <th>Other</th>                                    <td>   -0.1481</td> <td>    0.058</td> <td>   -2.536</td> <td> 0.012</td> <td>   -0.263</td> <td>   -0.033</td>\n",
       "</tr>\n",
       "<tr>\n",
       "  <th>Fever (temperature ≥37·3°C)</th>              <td>    0.0086</td> <td>    0.060</td> <td>    0.145</td> <td> 0.885</td> <td>   -0.109</td> <td>    0.126</td>\n",
       "</tr>\n",
       "<tr>\n",
       "  <th>Cough</th>                                    <td>   -0.0676</td> <td>    0.065</td> <td>   -1.045</td> <td> 0.297</td> <td>   -0.195</td> <td>    0.060</td>\n",
       "</tr>\n",
       "<tr>\n",
       "  <th>Shortness of Breath (dyspnoea)</th>           <td>    0.1228</td> <td>    0.056</td> <td>    2.189</td> <td> 0.029</td> <td>    0.012</td> <td>    0.233</td>\n",
       "</tr>\n",
       "<tr>\n",
       "  <th>Headache</th>                                 <td>    0.1399</td> <td>    0.084</td> <td>    1.659</td> <td> 0.098</td> <td>   -0.026</td> <td>    0.306</td>\n",
       "</tr>\n",
       "<tr>\n",
       "  <th>Sputum (/Expectoration)</th>                  <td>   -0.0512</td> <td>    0.067</td> <td>   -0.767</td> <td> 0.444</td> <td>   -0.182</td> <td>    0.080</td>\n",
       "</tr>\n",
       "<tr>\n",
       "  <th>Myalgia (Muscle Pain)</th>                    <td>    0.0123</td> <td>    0.061</td> <td>    0.202</td> <td> 0.840</td> <td>   -0.107</td> <td>    0.132</td>\n",
       "</tr>\n",
       "<tr>\n",
       "  <th>Fatigue</th>                                  <td>   -0.1771</td> <td>    0.060</td> <td>   -2.942</td> <td> 0.004</td> <td>   -0.296</td> <td>   -0.059</td>\n",
       "</tr>\n",
       "<tr>\n",
       "  <th>Diarrhoea</th>                                <td>   -0.1087</td> <td>    0.066</td> <td>   -1.655</td> <td> 0.099</td> <td>   -0.238</td> <td>    0.021</td>\n",
       "</tr>\n",
       "<tr>\n",
       "  <th>Nausea or Vomiting</th>                       <td>    0.1924</td> <td>    0.071</td> <td>    2.728</td> <td> 0.007</td> <td>    0.054</td> <td>    0.331</td>\n",
       "</tr>\n",
       "<tr>\n",
       "  <th>Disease Severity Asymptomatic</th>            <td>   -0.0025</td> <td>    0.133</td> <td>   -0.018</td> <td> 0.985</td> <td>   -0.265</td> <td>    0.260</td>\n",
       "</tr>\n",
       "<tr>\n",
       "  <th>Disease Severity General</th>                 <td>   -0.0033</td> <td>    0.035</td> <td>   -0.095</td> <td> 0.924</td> <td>   -0.072</td> <td>    0.065</td>\n",
       "</tr>\n",
       "<tr>\n",
       "  <th>Disease Severity Severe</th>                  <td>    0.1160</td> <td>    0.045</td> <td>    2.602</td> <td> 0.010</td> <td>    0.028</td> <td>    0.204</td>\n",
       "</tr>\n",
       "<tr>\n",
       "  <th>Disease Severity Critical</th>                <td>   -0.0166</td> <td>    0.041</td> <td>   -0.409</td> <td> 0.683</td> <td>   -0.096</td> <td>    0.063</td>\n",
       "</tr>\n",
       "<tr>\n",
       "  <th>White Blood Cell Count (10^9/L) - Median</th> <td>    0.0138</td> <td>    0.011</td> <td>    1.268</td> <td> 0.206</td> <td>   -0.008</td> <td>    0.035</td>\n",
       "</tr>\n",
       "<tr>\n",
       "  <th>White Blood Cell Count (10^9/L) - LQ</th>     <td>    0.0294</td> <td>    0.013</td> <td>    2.303</td> <td> 0.022</td> <td>    0.004</td> <td>    0.054</td>\n",
       "</tr>\n",
       "<tr>\n",
       "  <th>White Blood Cell Count (10^9/L) - UQ</th>     <td> 7.235e-05</td> <td>    0.006</td> <td>    0.013</td> <td> 0.990</td> <td>   -0.011</td> <td>    0.011</td>\n",
       "</tr>\n",
       "<tr>\n",
       "  <th>Lymphocyte Count (10^9/L) - Median</th>       <td>    0.0018</td> <td>    0.009</td> <td>    0.195</td> <td> 0.846</td> <td>   -0.016</td> <td>    0.019</td>\n",
       "</tr>\n",
       "<tr>\n",
       "  <th>Platelet Count (10^9/L) - Median</th>         <td>    0.0007</td> <td>    0.001</td> <td>    0.922</td> <td> 0.357</td> <td>   -0.001</td> <td>    0.002</td>\n",
       "</tr>\n",
       "<tr>\n",
       "  <th>Platelet Count (10^9/L) - LQ</th>             <td>-5.401e-05</td> <td>    0.001</td> <td>   -0.092</td> <td> 0.927</td> <td>   -0.001</td> <td>    0.001</td>\n",
       "</tr>\n",
       "<tr>\n",
       "  <th>Platelet Count (10^9/L) - UQ</th>             <td>   -0.0010</td> <td>    0.000</td> <td>   -2.524</td> <td> 0.012</td> <td>   -0.002</td> <td>   -0.000</td>\n",
       "</tr>\n",
       "<tr>\n",
       "  <th>Hemoglobin (g/L) - Median</th>                <td>    0.0011</td> <td>    0.001</td> <td>    1.617</td> <td> 0.107</td> <td>   -0.000</td> <td>    0.002</td>\n",
       "</tr>\n",
       "<tr>\n",
       "  <th>Hemoglobin (g/L) - LQ</th>                    <td>    0.0009</td> <td>    0.000</td> <td>    1.760</td> <td> 0.080</td> <td>   -0.000</td> <td>    0.002</td>\n",
       "</tr>\n",
       "<tr>\n",
       "  <th>Alanine Aminotransferase (U/L)</th>           <td>   -0.0012</td> <td>    0.001</td> <td>   -0.815</td> <td> 0.416</td> <td>   -0.004</td> <td>    0.002</td>\n",
       "</tr>\n",
       "<tr>\n",
       "  <th>Aspartate Aminotransferase (U/L)</th>         <td>    0.0028</td> <td>    0.002</td> <td>    1.662</td> <td> 0.098</td> <td>   -0.001</td> <td>    0.006</td>\n",
       "</tr>\n",
       "<tr>\n",
       "  <th>Antibiotic</th>                               <td>   -0.0270</td> <td>    0.045</td> <td>   -0.594</td> <td> 0.553</td> <td>   -0.116</td> <td>    0.062</td>\n",
       "</tr>\n",
       "<tr>\n",
       "  <th>Antiviral (Any)</th>                          <td>   -0.1850</td> <td>    0.056</td> <td>   -3.310</td> <td> 0.001</td> <td>   -0.295</td> <td>   -0.075</td>\n",
       "</tr>\n",
       "<tr>\n",
       "  <th>Hospital length of stay, days</th>            <td>   -0.0093</td> <td>    0.002</td> <td>   -4.509</td> <td> 0.000</td> <td>   -0.013</td> <td>   -0.005</td>\n",
       "</tr>\n",
       "<tr>\n",
       "  <th>Severity_All</th>                             <td>   -0.0405</td> <td>    0.092</td> <td>   -0.439</td> <td> 0.661</td> <td>   -0.222</td> <td>    0.141</td>\n",
       "</tr>\n",
       "<tr>\n",
       "  <th>Severity_Asymptomatic only</th>               <td>   -0.1554</td> <td>    0.235</td> <td>   -0.663</td> <td> 0.508</td> <td>   -0.617</td> <td>    0.306</td>\n",
       "</tr>\n",
       "<tr>\n",
       "  <th>Severity_Both</th>                            <td>    0.3866</td> <td>    0.127</td> <td>    3.050</td> <td> 0.003</td> <td>    0.137</td> <td>    0.636</td>\n",
       "</tr>\n",
       "<tr>\n",
       "  <th>Severity_Mild</th>                            <td>    0.0307</td> <td>    0.346</td> <td>    0.089</td> <td> 0.929</td> <td>   -0.651</td> <td>    0.712</td>\n",
       "</tr>\n",
       "<tr>\n",
       "  <th>Severity_Mild only</th>                       <td>   -0.0475</td> <td>    0.095</td> <td>   -0.498</td> <td> 0.619</td> <td>   -0.235</td> <td>    0.140</td>\n",
       "</tr>\n",
       "<tr>\n",
       "  <th>Severity_Severe</th>                          <td>   -0.1778</td> <td>    0.197</td> <td>   -0.903</td> <td> 0.367</td> <td>   -0.565</td> <td>    0.210</td>\n",
       "</tr>\n",
       "<tr>\n",
       "  <th>Severity_Severe/Critical Only</th>            <td>    0.1771</td> <td>    0.094</td> <td>    1.889</td> <td> 0.060</td> <td>   -0.007</td> <td>    0.362</td>\n",
       "</tr>\n",
       "<tr>\n",
       "  <th>Severity_Severe/critical only</th>            <td>   -0.1825</td> <td>    0.163</td> <td>   -1.120</td> <td> 0.264</td> <td>   -0.503</td> <td>    0.138</td>\n",
       "</tr>\n",
       "<tr>\n",
       "  <th>Ventilation_Both</th>                         <td>   -0.0172</td> <td>    0.090</td> <td>   -0.192</td> <td> 0.848</td> <td>   -0.194</td> <td>    0.159</td>\n",
       "</tr>\n",
       "<tr>\n",
       "  <th>Ventilation_No</th>                           <td>    0.1932</td> <td>    0.295</td> <td>    0.654</td> <td> 0.514</td> <td>   -0.388</td> <td>    0.775</td>\n",
       "</tr>\n",
       "<tr>\n",
       "  <th>Ventilation_Non-ventilation only</th>         <td>   -0.0441</td> <td>    0.091</td> <td>   -0.484</td> <td> 0.629</td> <td>   -0.223</td> <td>    0.135</td>\n",
       "</tr>\n",
       "<tr>\n",
       "  <th>Ventilation_Ventilation only</th>             <td>   -0.0531</td> <td>    0.097</td> <td>   -0.550</td> <td> 0.582</td> <td>   -0.243</td> <td>    0.137</td>\n",
       "</tr>\n",
       "<tr>\n",
       "  <th>Ventilation_Yes</th>                          <td>   -0.0882</td> <td>    0.106</td> <td>   -0.829</td> <td> 0.408</td> <td>   -0.298</td> <td>    0.121</td>\n",
       "</tr>\n",
       "</table>\n",
       "<table class=\"simpletable\">\n",
       "<tr>\n",
       "  <th>Omnibus:</th>       <td>36.253</td> <th>  Durbin-Watson:     </th> <td>   2.049</td>\n",
       "</tr>\n",
       "<tr>\n",
       "  <th>Prob(Omnibus):</th> <td> 0.000</td> <th>  Jarque-Bera (JB):  </th> <td>  55.930</td>\n",
       "</tr>\n",
       "<tr>\n",
       "  <th>Skew:</th>          <td> 0.696</td> <th>  Prob(JB):          </th> <td>7.16e-13</td>\n",
       "</tr>\n",
       "<tr>\n",
       "  <th>Kurtosis:</th>      <td> 4.451</td> <th>  Cond. No.          </th> <td>1.75e+16</td>\n",
       "</tr>\n",
       "</table><br/><br/>Warnings:<br/>[1] Standard Errors assume that the covariance matrix of the errors is correctly specified.<br/>[2] The smallest eigenvalue is 1.46e-25. This might indicate that there are<br/>strong multicollinearity problems or that the design matrix is singular."
      ],
      "text/plain": [
       "<class 'statsmodels.iolib.summary.Summary'>\n",
       "\"\"\"\n",
       "                            OLS Regression Results                            \n",
       "==============================================================================\n",
       "Dep. Variable:              Mortality   R-squared:                       0.599\n",
       "Model:                            OLS   Adj. R-squared:                  0.527\n",
       "Method:                 Least Squares   F-statistic:                     8.389\n",
       "Date:                Mon, 14 Sep 2020   Prob (F-statistic):           4.02e-33\n",
       "Time:                        15:04:00   Log-Likelihood:                 73.924\n",
       "No. Observations:                 332   AIC:                            -45.85\n",
       "Df Residuals:                     281   BIC:                             148.2\n",
       "Df Model:                          50                                         \n",
       "Covariance Type:            nonrobust                                         \n",
       "============================================================================================================\n",
       "                                               coef    std err          t      P>|t|      [0.025      0.975]\n",
       "------------------------------------------------------------------------------------------------------------\n",
       "const                                       -0.0094      0.139     -0.067      0.946      -0.284       0.265\n",
       "Mean Age                                     0.0014      0.001      1.703      0.090      -0.000       0.003\n",
       "% Male                                      -0.0484      0.054     -0.899      0.370      -0.154       0.058\n",
       "Any Comorbidity                              0.1024      0.051      2.002      0.046       0.002       0.203\n",
       "Hypertension                                 0.1540      0.058      2.648      0.009       0.040       0.268\n",
       "Diabetes                                    -0.0232      0.089     -0.260      0.795      -0.199       0.153\n",
       "Cardiovascular Disease (incl. CAD)           0.1088      0.076      1.441      0.151      -0.040       0.257\n",
       "Chronic obstructive lung (COPD)             -0.0293      0.091     -0.321      0.749      -0.209       0.150\n",
       "Cancer (Any)                                 0.0359      0.069      0.520      0.604      -0.100       0.172\n",
       "Liver Disease (any)                         -0.6655      0.258     -2.581      0.010      -1.173      -0.158\n",
       "Cerebrovascular Disease                     -0.0650      0.137     -0.475      0.635      -0.334       0.204\n",
       "Chronic kidney/renal disease                 0.3521      0.132      2.665      0.008       0.092       0.612\n",
       "Other                                       -0.1481      0.058     -2.536      0.012      -0.263      -0.033\n",
       "Fever (temperature ≥37·3°C)                  0.0086      0.060      0.145      0.885      -0.109       0.126\n",
       "Cough                                       -0.0676      0.065     -1.045      0.297      -0.195       0.060\n",
       "Shortness of Breath (dyspnoea)               0.1228      0.056      2.189      0.029       0.012       0.233\n",
       "Headache                                     0.1399      0.084      1.659      0.098      -0.026       0.306\n",
       "Sputum (/Expectoration)                     -0.0512      0.067     -0.767      0.444      -0.182       0.080\n",
       "Myalgia (Muscle Pain)                        0.0123      0.061      0.202      0.840      -0.107       0.132\n",
       "Fatigue                                     -0.1771      0.060     -2.942      0.004      -0.296      -0.059\n",
       "Diarrhoea                                   -0.1087      0.066     -1.655      0.099      -0.238       0.021\n",
       "Nausea or Vomiting                           0.1924      0.071      2.728      0.007       0.054       0.331\n",
       "Disease Severity Asymptomatic               -0.0025      0.133     -0.018      0.985      -0.265       0.260\n",
       "Disease Severity General                    -0.0033      0.035     -0.095      0.924      -0.072       0.065\n",
       "Disease Severity Severe                      0.1160      0.045      2.602      0.010       0.028       0.204\n",
       "Disease Severity Critical                   -0.0166      0.041     -0.409      0.683      -0.096       0.063\n",
       "White Blood Cell Count (10^9/L) - Median     0.0138      0.011      1.268      0.206      -0.008       0.035\n",
       "White Blood Cell Count (10^9/L) - LQ         0.0294      0.013      2.303      0.022       0.004       0.054\n",
       "White Blood Cell Count (10^9/L) - UQ      7.235e-05      0.006      0.013      0.990      -0.011       0.011\n",
       "Lymphocyte Count (10^9/L) - Median           0.0018      0.009      0.195      0.846      -0.016       0.019\n",
       "Platelet Count (10^9/L) - Median             0.0007      0.001      0.922      0.357      -0.001       0.002\n",
       "Platelet Count (10^9/L) - LQ             -5.401e-05      0.001     -0.092      0.927      -0.001       0.001\n",
       "Platelet Count (10^9/L) - UQ                -0.0010      0.000     -2.524      0.012      -0.002      -0.000\n",
       "Hemoglobin (g/L) - Median                    0.0011      0.001      1.617      0.107      -0.000       0.002\n",
       "Hemoglobin (g/L) - LQ                        0.0009      0.000      1.760      0.080      -0.000       0.002\n",
       "Alanine Aminotransferase (U/L)              -0.0012      0.001     -0.815      0.416      -0.004       0.002\n",
       "Aspartate Aminotransferase (U/L)             0.0028      0.002      1.662      0.098      -0.001       0.006\n",
       "Antibiotic                                  -0.0270      0.045     -0.594      0.553      -0.116       0.062\n",
       "Antiviral (Any)                             -0.1850      0.056     -3.310      0.001      -0.295      -0.075\n",
       "Hospital length of stay, days               -0.0093      0.002     -4.509      0.000      -0.013      -0.005\n",
       "Severity_All                                -0.0405      0.092     -0.439      0.661      -0.222       0.141\n",
       "Severity_Asymptomatic only                  -0.1554      0.235     -0.663      0.508      -0.617       0.306\n",
       "Severity_Both                                0.3866      0.127      3.050      0.003       0.137       0.636\n",
       "Severity_Mild                                0.0307      0.346      0.089      0.929      -0.651       0.712\n",
       "Severity_Mild only                          -0.0475      0.095     -0.498      0.619      -0.235       0.140\n",
       "Severity_Severe                             -0.1778      0.197     -0.903      0.367      -0.565       0.210\n",
       "Severity_Severe/Critical Only                0.1771      0.094      1.889      0.060      -0.007       0.362\n",
       "Severity_Severe/critical only               -0.1825      0.163     -1.120      0.264      -0.503       0.138\n",
       "Ventilation_Both                            -0.0172      0.090     -0.192      0.848      -0.194       0.159\n",
       "Ventilation_No                               0.1932      0.295      0.654      0.514      -0.388       0.775\n",
       "Ventilation_Non-ventilation only            -0.0441      0.091     -0.484      0.629      -0.223       0.135\n",
       "Ventilation_Ventilation only                -0.0531      0.097     -0.550      0.582      -0.243       0.137\n",
       "Ventilation_Yes                             -0.0882      0.106     -0.829      0.408      -0.298       0.121\n",
       "==============================================================================\n",
       "Omnibus:                       36.253   Durbin-Watson:                   2.049\n",
       "Prob(Omnibus):                  0.000   Jarque-Bera (JB):               55.930\n",
       "Skew:                           0.696   Prob(JB):                     7.16e-13\n",
       "Kurtosis:                       4.451   Cond. No.                     1.75e+16\n",
       "==============================================================================\n",
       "\n",
       "Warnings:\n",
       "[1] Standard Errors assume that the covariance matrix of the errors is correctly specified.\n",
       "[2] The smallest eigenvalue is 1.46e-25. This might indicate that there are\n",
       "strong multicollinearity problems or that the design matrix is singular.\n",
       "\"\"\""
      ]
     },
     "execution_count": 406,
     "metadata": {},
     "output_type": "execute_result"
    }
   ],
   "source": [
    "base_model.summary()"
   ]
  },
  {
   "cell_type": "markdown",
   "metadata": {},
   "source": [
    "Predict the dependent values on validation data using basemodel"
   ]
  },
  {
   "cell_type": "code",
   "execution_count": 407,
   "metadata": {
    "scrolled": true
   },
   "outputs": [],
   "source": [
    "predbase=round(base_model.predict(testX),2)"
   ]
  },
  {
   "cell_type": "markdown",
   "metadata": {},
   "source": [
    "### Evaluation of the model"
   ]
  },
  {
   "cell_type": "markdown",
   "metadata": {},
   "source": [
    "Print out evaluation metrics of the basemodel"
   ]
  },
  {
   "cell_type": "code",
   "execution_count": 408,
   "metadata": {},
   "outputs": [
    {
     "name": "stdout",
     "output_type": "stream",
     "text": [
      "SSE=9.5578, MSE=0.0668, MAE=0.195, R2=0.5988\n"
     ]
    }
   ],
   "source": [
    "sse=round(sum((testY-predbase)**2),4)\n",
    "mse=round(metrics.mean_squared_error(testY, predbase),4)\n",
    "mae=round(metrics.mean_absolute_error(testY, predbase),4)\n",
    "r2=round(base_model.rsquared,4)\n",
    "print('SSE={}, MSE={}, MAE={}, R2={}'.format(sse,mse, mae,r2))"
   ]
  },
  {
   "cell_type": "markdown",
   "metadata": {},
   "source": [
    "### Feature selection"
   ]
  },
  {
   "cell_type": "markdown",
   "metadata": {},
   "source": [
    "Select features which are significant, remove those features who have p-value greater than 0.05"
   ]
  },
  {
   "cell_type": "code",
   "execution_count": 409,
   "metadata": {
    "scrolled": true
   },
   "outputs": [
    {
     "data": {
      "text/html": [
       "<div>\n",
       "<style scoped>\n",
       "    .dataframe tbody tr th:only-of-type {\n",
       "        vertical-align: middle;\n",
       "    }\n",
       "\n",
       "    .dataframe tbody tr th {\n",
       "        vertical-align: top;\n",
       "    }\n",
       "\n",
       "    .dataframe thead th {\n",
       "        text-align: right;\n",
       "    }\n",
       "</style>\n",
       "<table border=\"1\" class=\"dataframe\">\n",
       "  <thead>\n",
       "    <tr style=\"text-align: right;\">\n",
       "      <th></th>\n",
       "      <th>columns</th>\n",
       "      <th>score</th>\n",
       "      <th>p_value</th>\n",
       "    </tr>\n",
       "  </thead>\n",
       "  <tbody>\n",
       "    <tr>\n",
       "      <th>1</th>\n",
       "      <td>% Male</td>\n",
       "      <td>0.155709</td>\n",
       "      <td>0.693393</td>\n",
       "    </tr>\n",
       "    <tr>\n",
       "      <th>6</th>\n",
       "      <td>Chronic obstructive lung (COPD)</td>\n",
       "      <td>2.318428</td>\n",
       "      <td>0.128807</td>\n",
       "    </tr>\n",
       "    <tr>\n",
       "      <th>7</th>\n",
       "      <td>Cancer (Any)</td>\n",
       "      <td>0.452083</td>\n",
       "      <td>0.501818</td>\n",
       "    </tr>\n",
       "    <tr>\n",
       "      <th>8</th>\n",
       "      <td>Liver Disease (any)</td>\n",
       "      <td>1.123573</td>\n",
       "      <td>0.289926</td>\n",
       "    </tr>\n",
       "    <tr>\n",
       "      <th>9</th>\n",
       "      <td>Cerebrovascular Disease</td>\n",
       "      <td>3.528883</td>\n",
       "      <td>0.061190</td>\n",
       "    </tr>\n",
       "    <tr>\n",
       "      <th>14</th>\n",
       "      <td>Shortness of Breath (dyspnoea)</td>\n",
       "      <td>1.487219</td>\n",
       "      <td>0.223519</td>\n",
       "    </tr>\n",
       "    <tr>\n",
       "      <th>15</th>\n",
       "      <td>Headache</td>\n",
       "      <td>0.285855</td>\n",
       "      <td>0.593249</td>\n",
       "    </tr>\n",
       "    <tr>\n",
       "      <th>16</th>\n",
       "      <td>Sputum (/Expectoration)</td>\n",
       "      <td>0.007424</td>\n",
       "      <td>0.931388</td>\n",
       "    </tr>\n",
       "    <tr>\n",
       "      <th>17</th>\n",
       "      <td>Myalgia (Muscle Pain)</td>\n",
       "      <td>2.824936</td>\n",
       "      <td>0.093757</td>\n",
       "    </tr>\n",
       "    <tr>\n",
       "      <th>22</th>\n",
       "      <td>Disease Severity General</td>\n",
       "      <td>0.256021</td>\n",
       "      <td>0.613205</td>\n",
       "    </tr>\n",
       "    <tr>\n",
       "      <th>24</th>\n",
       "      <td>Disease Severity Critical</td>\n",
       "      <td>1.273186</td>\n",
       "      <td>0.259989</td>\n",
       "    </tr>\n",
       "    <tr>\n",
       "      <th>28</th>\n",
       "      <td>Lymphocyte Count (10^9/L) - Median</td>\n",
       "      <td>3.830732</td>\n",
       "      <td>0.051164</td>\n",
       "    </tr>\n",
       "    <tr>\n",
       "      <th>30</th>\n",
       "      <td>Platelet Count (10^9/L) - LQ</td>\n",
       "      <td>3.079866</td>\n",
       "      <td>0.080195</td>\n",
       "    </tr>\n",
       "    <tr>\n",
       "      <th>34</th>\n",
       "      <td>Alanine Aminotransferase (U/L)</td>\n",
       "      <td>3.476685</td>\n",
       "      <td>0.063127</td>\n",
       "    </tr>\n",
       "    <tr>\n",
       "      <th>35</th>\n",
       "      <td>Aspartate Aminotransferase (U/L)</td>\n",
       "      <td>0.029219</td>\n",
       "      <td>0.864378</td>\n",
       "    </tr>\n",
       "    <tr>\n",
       "      <th>37</th>\n",
       "      <td>Antiviral (Any)</td>\n",
       "      <td>2.013718</td>\n",
       "      <td>0.156827</td>\n",
       "    </tr>\n",
       "    <tr>\n",
       "      <th>40</th>\n",
       "      <td>Severity_Asymptomatic only</td>\n",
       "      <td>0.315501</td>\n",
       "      <td>0.574705</td>\n",
       "    </tr>\n",
       "    <tr>\n",
       "      <th>41</th>\n",
       "      <td>Severity_Both</td>\n",
       "      <td>3.633990</td>\n",
       "      <td>0.057479</td>\n",
       "    </tr>\n",
       "    <tr>\n",
       "      <th>42</th>\n",
       "      <td>Severity_Mild</td>\n",
       "      <td>0.315501</td>\n",
       "      <td>0.574705</td>\n",
       "    </tr>\n",
       "    <tr>\n",
       "      <th>44</th>\n",
       "      <td>Severity_Severe</td>\n",
       "      <td>0.633524</td>\n",
       "      <td>0.426638</td>\n",
       "    </tr>\n",
       "    <tr>\n",
       "      <th>46</th>\n",
       "      <td>Severity_Severe/critical only</td>\n",
       "      <td>0.268205</td>\n",
       "      <td>0.604886</td>\n",
       "    </tr>\n",
       "    <tr>\n",
       "      <th>48</th>\n",
       "      <td>Ventilation_No</td>\n",
       "      <td>0.633524</td>\n",
       "      <td>0.426638</td>\n",
       "    </tr>\n",
       "    <tr>\n",
       "      <th>50</th>\n",
       "      <td>Ventilation_Ventilation only</td>\n",
       "      <td>0.828184</td>\n",
       "      <td>0.363462</td>\n",
       "    </tr>\n",
       "  </tbody>\n",
       "</table>\n",
       "</div>"
      ],
      "text/plain": [
       "                               columns     score   p_value\n",
       "1                               % Male  0.155709  0.693393\n",
       "6      Chronic obstructive lung (COPD)  2.318428  0.128807\n",
       "7                         Cancer (Any)  0.452083  0.501818\n",
       "8                  Liver Disease (any)  1.123573  0.289926\n",
       "9              Cerebrovascular Disease  3.528883  0.061190\n",
       "14      Shortness of Breath (dyspnoea)  1.487219  0.223519\n",
       "15                            Headache  0.285855  0.593249\n",
       "16             Sputum (/Expectoration)  0.007424  0.931388\n",
       "17               Myalgia (Muscle Pain)  2.824936  0.093757\n",
       "22            Disease Severity General  0.256021  0.613205\n",
       "24           Disease Severity Critical  1.273186  0.259989\n",
       "28  Lymphocyte Count (10^9/L) - Median  3.830732  0.051164\n",
       "30        Platelet Count (10^9/L) - LQ  3.079866  0.080195\n",
       "34      Alanine Aminotransferase (U/L)  3.476685  0.063127\n",
       "35    Aspartate Aminotransferase (U/L)  0.029219  0.864378\n",
       "37                     Antiviral (Any)  2.013718  0.156827\n",
       "40          Severity_Asymptomatic only  0.315501  0.574705\n",
       "41                       Severity_Both  3.633990  0.057479\n",
       "42                       Severity_Mild  0.315501  0.574705\n",
       "44                     Severity_Severe  0.633524  0.426638\n",
       "46       Severity_Severe/critical only  0.268205  0.604886\n",
       "48                      Ventilation_No  0.633524  0.426638\n",
       "50        Ventilation_Ventilation only  0.828184  0.363462"
      ]
     },
     "execution_count": 409,
     "metadata": {},
     "output_type": "execute_result"
    }
   ],
   "source": [
    "features=fs(trainX.iloc[:,1:totalcols-1],trainY,center=True)\n",
    "list(features[0])\n",
    "\n",
    "dffeatures=pd.DataFrame({'columns':trainX.columns[1:totalcols-1],'score':features[0],'p_value':features[1]})\n",
    "\n",
    "dffeatures.isnull().sum()\n",
    "dffeatures = dffeatures.dropna(axis=0, subset=['score'])\n",
    "\n",
    "dffeatures=dffeatures[dffeatures.p_value > 0.05]\n",
    "dffeatures"
   ]
  },
  {
   "cell_type": "markdown",
   "metadata": {},
   "source": [
    "Create a dataframe containing only significant features"
   ]
  },
  {
   "cell_type": "code",
   "execution_count": 410,
   "metadata": {},
   "outputs": [],
   "source": [
    "mortality1=mortality.drop([mortality.columns[1], mortality.columns[6], mortality.columns[7], mortality.columns[8],\n",
    "                           mortality.columns[14], mortality.columns[15], mortality.columns[16], \n",
    "                           mortality.columns[24],mortality.columns[28], mortality.columns[34], \n",
    "                           mortality.columns[35],mortality.columns[37], mortality.columns[41], \n",
    "                           mortality.columns[42],mortality.columns[46], mortality.columns[48], \n",
    "                           mortality.columns[50]], axis=1)"
   ]
  },
  {
   "cell_type": "code",
   "execution_count": 411,
   "metadata": {},
   "outputs": [
    {
     "data": {
      "text/plain": [
       "(475, 36)"
      ]
     },
     "execution_count": 411,
     "metadata": {},
     "output_type": "execute_result"
    }
   ],
   "source": [
    "mortality1.shape"
   ]
  },
  {
   "cell_type": "markdown",
   "metadata": {},
   "source": [
    "### Model building on feature selection"
   ]
  },
  {
   "cell_type": "markdown",
   "metadata": {},
   "source": [
    "Split new dataset into independent and dependent variables and then into training and validation dataset"
   ]
  },
  {
   "cell_type": "code",
   "execution_count": 412,
   "metadata": {},
   "outputs": [
    {
     "name": "stdout",
     "output_type": "stream",
     "text": [
      "train=(332, 36),test=(143, 36)\n",
      "trainX=(332, 35),trainY=(332,),testX=(143, 35),testY=(143,)\n"
     ]
    }
   ],
   "source": [
    "train,test=train_test_split(mortality1,test_size=0.3)\n",
    "print('train={},test={}'.format(train.shape,test.shape))\n",
    "\n",
    "totalcols=len(mortality1.columns)\n",
    "\n",
    "trainX=train.iloc[:,0:totalcols-1]\n",
    "trainY=train.iloc[:,totalcols-1]\n",
    "\n",
    "testX=test.iloc[:,0:totalcols-1]\n",
    "testY=test.iloc[:,totalcols-1]\n",
    "\n",
    "print('trainX={},trainY={},testX={},testY={}'.format(trainX.shape,trainY.shape,testX.shape,testY.shape))\n"
   ]
  },
  {
   "cell_type": "markdown",
   "metadata": {},
   "source": [
    "Add constant term to the independent variables"
   ]
  },
  {
   "cell_type": "code",
   "execution_count": 413,
   "metadata": {},
   "outputs": [],
   "source": [
    "trainX=sm.add_constant(trainX)\n",
    "testX=sm.add_constant(testX)"
   ]
  },
  {
   "cell_type": "markdown",
   "metadata": {},
   "source": [
    "build the linear regression model"
   ]
  },
  {
   "cell_type": "code",
   "execution_count": 414,
   "metadata": {},
   "outputs": [],
   "source": [
    "fs1_model=sm.OLS(trainY,trainX).fit()"
   ]
  },
  {
   "cell_type": "markdown",
   "metadata": {},
   "source": [
    "summarize the feature selection model"
   ]
  },
  {
   "cell_type": "code",
   "execution_count": 415,
   "metadata": {
    "scrolled": true
   },
   "outputs": [
    {
     "data": {
      "text/html": [
       "<table class=\"simpletable\">\n",
       "<caption>OLS Regression Results</caption>\n",
       "<tr>\n",
       "  <th>Dep. Variable:</th>        <td>Mortality</td>    <th>  R-squared:         </th> <td>   0.557</td>\n",
       "</tr>\n",
       "<tr>\n",
       "  <th>Model:</th>                   <td>OLS</td>       <th>  Adj. R-squared:    </th> <td>   0.505</td>\n",
       "</tr>\n",
       "<tr>\n",
       "  <th>Method:</th>             <td>Least Squares</td>  <th>  F-statistic:       </th> <td>   10.63</td>\n",
       "</tr>\n",
       "<tr>\n",
       "  <th>Date:</th>             <td>Mon, 14 Sep 2020</td> <th>  Prob (F-statistic):</th> <td>6.45e-35</td>\n",
       "</tr>\n",
       "<tr>\n",
       "  <th>Time:</th>                 <td>15:04:01</td>     <th>  Log-Likelihood:    </th> <td>  38.216</td>\n",
       "</tr>\n",
       "<tr>\n",
       "  <th>No. Observations:</th>      <td>   332</td>      <th>  AIC:               </th> <td>  -4.432</td>\n",
       "</tr>\n",
       "<tr>\n",
       "  <th>Df Residuals:</th>          <td>   296</td>      <th>  BIC:               </th> <td>   132.6</td>\n",
       "</tr>\n",
       "<tr>\n",
       "  <th>Df Model:</th>              <td>    35</td>      <th>                     </th>     <td> </td>   \n",
       "</tr>\n",
       "<tr>\n",
       "  <th>Covariance Type:</th>      <td>nonrobust</td>    <th>                     </th>     <td> </td>   \n",
       "</tr>\n",
       "</table>\n",
       "<table class=\"simpletable\">\n",
       "<tr>\n",
       "                      <td></td>                        <th>coef</th>     <th>std err</th>      <th>t</th>      <th>P>|t|</th>  <th>[0.025</th>    <th>0.975]</th>  \n",
       "</tr>\n",
       "<tr>\n",
       "  <th>const</th>                                    <td>   -0.1289</td> <td>    0.186</td> <td>   -0.693</td> <td> 0.489</td> <td>   -0.495</td> <td>    0.237</td>\n",
       "</tr>\n",
       "<tr>\n",
       "  <th>Mean Age</th>                                 <td>    0.0014</td> <td>    0.001</td> <td>    1.728</td> <td> 0.085</td> <td>   -0.000</td> <td>    0.003</td>\n",
       "</tr>\n",
       "<tr>\n",
       "  <th>Any Comorbidity</th>                          <td>    0.0886</td> <td>    0.050</td> <td>    1.762</td> <td> 0.079</td> <td>   -0.010</td> <td>    0.188</td>\n",
       "</tr>\n",
       "<tr>\n",
       "  <th>Hypertension</th>                             <td>    0.1965</td> <td>    0.058</td> <td>    3.394</td> <td> 0.001</td> <td>    0.083</td> <td>    0.310</td>\n",
       "</tr>\n",
       "<tr>\n",
       "  <th>Diabetes</th>                                 <td>    0.0324</td> <td>    0.088</td> <td>    0.367</td> <td> 0.714</td> <td>   -0.141</td> <td>    0.206</td>\n",
       "</tr>\n",
       "<tr>\n",
       "  <th>Cardiovascular Disease (incl. CAD)</th>       <td>    0.0813</td> <td>    0.070</td> <td>    1.155</td> <td> 0.249</td> <td>   -0.057</td> <td>    0.220</td>\n",
       "</tr>\n",
       "<tr>\n",
       "  <th>Cerebrovascular Disease</th>                  <td>    0.0040</td> <td>    0.042</td> <td>    0.095</td> <td> 0.924</td> <td>   -0.078</td> <td>    0.086</td>\n",
       "</tr>\n",
       "<tr>\n",
       "  <th>Chronic kidney/renal disease</th>             <td>    0.2587</td> <td>    0.223</td> <td>    1.162</td> <td> 0.246</td> <td>   -0.180</td> <td>    0.697</td>\n",
       "</tr>\n",
       "<tr>\n",
       "  <th>Other</th>                                    <td>   -0.0951</td> <td>    0.062</td> <td>   -1.540</td> <td> 0.125</td> <td>   -0.217</td> <td>    0.026</td>\n",
       "</tr>\n",
       "<tr>\n",
       "  <th>Fever (temperature ≥37·3°C)</th>              <td>    0.0093</td> <td>    0.056</td> <td>    0.165</td> <td> 0.869</td> <td>   -0.101</td> <td>    0.120</td>\n",
       "</tr>\n",
       "<tr>\n",
       "  <th>Cough</th>                                    <td>   -0.0726</td> <td>    0.060</td> <td>   -1.205</td> <td> 0.229</td> <td>   -0.191</td> <td>    0.046</td>\n",
       "</tr>\n",
       "<tr>\n",
       "  <th>Myalgia (Muscle Pain)</th>                    <td>    0.0375</td> <td>    0.060</td> <td>    0.627</td> <td> 0.531</td> <td>   -0.080</td> <td>    0.155</td>\n",
       "</tr>\n",
       "<tr>\n",
       "  <th>Fatigue</th>                                  <td>   -0.1419</td> <td>    0.058</td> <td>   -2.444</td> <td> 0.015</td> <td>   -0.256</td> <td>   -0.028</td>\n",
       "</tr>\n",
       "<tr>\n",
       "  <th>Diarrhoea</th>                                <td>   -0.0709</td> <td>    0.066</td> <td>   -1.067</td> <td> 0.287</td> <td>   -0.202</td> <td>    0.060</td>\n",
       "</tr>\n",
       "<tr>\n",
       "  <th>Nausea or Vomiting</th>                       <td>    0.1670</td> <td>    0.072</td> <td>    2.309</td> <td> 0.022</td> <td>    0.025</td> <td>    0.309</td>\n",
       "</tr>\n",
       "<tr>\n",
       "  <th>Disease Severity Asymptomatic</th>            <td>   -0.0312</td> <td>    0.101</td> <td>   -0.311</td> <td> 0.756</td> <td>   -0.229</td> <td>    0.167</td>\n",
       "</tr>\n",
       "<tr>\n",
       "  <th>Disease Severity General</th>                 <td>    0.0574</td> <td>    0.035</td> <td>    1.633</td> <td> 0.104</td> <td>   -0.012</td> <td>    0.127</td>\n",
       "</tr>\n",
       "<tr>\n",
       "  <th>Disease Severity Severe</th>                  <td>    0.0956</td> <td>    0.042</td> <td>    2.256</td> <td> 0.025</td> <td>    0.012</td> <td>    0.179</td>\n",
       "</tr>\n",
       "<tr>\n",
       "  <th>White Blood Cell Count (10^9/L) - Median</th> <td>   -0.0002</td> <td>    0.012</td> <td>   -0.021</td> <td> 0.984</td> <td>   -0.023</td> <td>    0.022</td>\n",
       "</tr>\n",
       "<tr>\n",
       "  <th>White Blood Cell Count (10^9/L) - LQ</th>     <td>    0.0373</td> <td>    0.012</td> <td>    3.002</td> <td> 0.003</td> <td>    0.013</td> <td>    0.062</td>\n",
       "</tr>\n",
       "<tr>\n",
       "  <th>White Blood Cell Count (10^9/L) - UQ</th>     <td>    0.0081</td> <td>    0.006</td> <td>    1.289</td> <td> 0.198</td> <td>   -0.004</td> <td>    0.021</td>\n",
       "</tr>\n",
       "<tr>\n",
       "  <th>Platelet Count (10^9/L) - Median</th>         <td>-6.802e-05</td> <td>    0.001</td> <td>   -0.094</td> <td> 0.926</td> <td>   -0.001</td> <td>    0.001</td>\n",
       "</tr>\n",
       "<tr>\n",
       "  <th>Platelet Count (10^9/L) - LQ</th>             <td>    0.0001</td> <td>    0.001</td> <td>    0.210</td> <td> 0.834</td> <td>   -0.001</td> <td>    0.001</td>\n",
       "</tr>\n",
       "<tr>\n",
       "  <th>Platelet Count (10^9/L) - UQ</th>             <td>   -0.0003</td> <td>    0.000</td> <td>   -0.757</td> <td> 0.449</td> <td>   -0.001</td> <td>    0.000</td>\n",
       "</tr>\n",
       "<tr>\n",
       "  <th>Hemoglobin (g/L) - Median</th>                <td>    0.0008</td> <td>    0.001</td> <td>    1.190</td> <td> 0.235</td> <td>   -0.001</td> <td>    0.002</td>\n",
       "</tr>\n",
       "<tr>\n",
       "  <th>Hemoglobin (g/L) - LQ</th>                    <td>    0.0011</td> <td>    0.001</td> <td>    1.886</td> <td> 0.060</td> <td>-4.71e-05</td> <td>    0.002</td>\n",
       "</tr>\n",
       "<tr>\n",
       "  <th>Antibiotic</th>                               <td>   -0.0297</td> <td>    0.046</td> <td>   -0.645</td> <td> 0.520</td> <td>   -0.120</td> <td>    0.061</td>\n",
       "</tr>\n",
       "<tr>\n",
       "  <th>Hospital length of stay, days</th>            <td>   -0.0050</td> <td>    0.002</td> <td>   -2.559</td> <td> 0.011</td> <td>   -0.009</td> <td>   -0.001</td>\n",
       "</tr>\n",
       "<tr>\n",
       "  <th>Severity_All</th>                             <td>   -0.2340</td> <td>    0.125</td> <td>   -1.872</td> <td> 0.062</td> <td>   -0.480</td> <td>    0.012</td>\n",
       "</tr>\n",
       "<tr>\n",
       "  <th>Severity_Asymptomatic only</th>               <td>   -0.3146</td> <td>    0.281</td> <td>   -1.119</td> <td> 0.264</td> <td>   -0.868</td> <td>    0.239</td>\n",
       "</tr>\n",
       "<tr>\n",
       "  <th>Severity_Mild only</th>                       <td>   -0.2489</td> <td>    0.131</td> <td>   -1.906</td> <td> 0.058</td> <td>   -0.506</td> <td>    0.008</td>\n",
       "</tr>\n",
       "<tr>\n",
       "  <th>Severity_Severe</th>                          <td>   -0.0476</td> <td>    0.215</td> <td>   -0.221</td> <td> 0.825</td> <td>   -0.471</td> <td>    0.376</td>\n",
       "</tr>\n",
       "<tr>\n",
       "  <th>Severity_Severe/Critical Only</th>            <td>    0.0077</td> <td>    0.127</td> <td>    0.061</td> <td> 0.951</td> <td>   -0.241</td> <td>    0.257</td>\n",
       "</tr>\n",
       "<tr>\n",
       "  <th>Ventilation_Both</th>                         <td>    0.0079</td> <td>    0.054</td> <td>    0.146</td> <td> 0.884</td> <td>   -0.098</td> <td>    0.114</td>\n",
       "</tr>\n",
       "<tr>\n",
       "  <th>Ventilation_Non-ventilation only</th>         <td>   -0.0153</td> <td>    0.063</td> <td>   -0.242</td> <td> 0.809</td> <td>   -0.140</td> <td>    0.109</td>\n",
       "</tr>\n",
       "<tr>\n",
       "  <th>Ventilation_Yes</th>                          <td>   -0.1085</td> <td>    0.118</td> <td>   -0.921</td> <td> 0.358</td> <td>   -0.340</td> <td>    0.123</td>\n",
       "</tr>\n",
       "</table>\n",
       "<table class=\"simpletable\">\n",
       "<tr>\n",
       "  <th>Omnibus:</th>       <td>42.619</td> <th>  Durbin-Watson:     </th> <td>   1.768</td>\n",
       "</tr>\n",
       "<tr>\n",
       "  <th>Prob(Omnibus):</th> <td> 0.000</td> <th>  Jarque-Bera (JB):  </th> <td>  66.984</td>\n",
       "</tr>\n",
       "<tr>\n",
       "  <th>Skew:</th>          <td> 0.791</td> <th>  Prob(JB):          </th> <td>2.85e-15</td>\n",
       "</tr>\n",
       "<tr>\n",
       "  <th>Kurtosis:</th>      <td> 4.530</td> <th>  Cond. No.          </th> <td>9.69e+03</td>\n",
       "</tr>\n",
       "</table><br/><br/>Warnings:<br/>[1] Standard Errors assume that the covariance matrix of the errors is correctly specified.<br/>[2] The condition number is large, 9.69e+03. This might indicate that there are<br/>strong multicollinearity or other numerical problems."
      ],
      "text/plain": [
       "<class 'statsmodels.iolib.summary.Summary'>\n",
       "\"\"\"\n",
       "                            OLS Regression Results                            \n",
       "==============================================================================\n",
       "Dep. Variable:              Mortality   R-squared:                       0.557\n",
       "Model:                            OLS   Adj. R-squared:                  0.505\n",
       "Method:                 Least Squares   F-statistic:                     10.63\n",
       "Date:                Mon, 14 Sep 2020   Prob (F-statistic):           6.45e-35\n",
       "Time:                        15:04:01   Log-Likelihood:                 38.216\n",
       "No. Observations:                 332   AIC:                            -4.432\n",
       "Df Residuals:                     296   BIC:                             132.6\n",
       "Df Model:                          35                                         \n",
       "Covariance Type:            nonrobust                                         \n",
       "============================================================================================================\n",
       "                                               coef    std err          t      P>|t|      [0.025      0.975]\n",
       "------------------------------------------------------------------------------------------------------------\n",
       "const                                       -0.1289      0.186     -0.693      0.489      -0.495       0.237\n",
       "Mean Age                                     0.0014      0.001      1.728      0.085      -0.000       0.003\n",
       "Any Comorbidity                              0.0886      0.050      1.762      0.079      -0.010       0.188\n",
       "Hypertension                                 0.1965      0.058      3.394      0.001       0.083       0.310\n",
       "Diabetes                                     0.0324      0.088      0.367      0.714      -0.141       0.206\n",
       "Cardiovascular Disease (incl. CAD)           0.0813      0.070      1.155      0.249      -0.057       0.220\n",
       "Cerebrovascular Disease                      0.0040      0.042      0.095      0.924      -0.078       0.086\n",
       "Chronic kidney/renal disease                 0.2587      0.223      1.162      0.246      -0.180       0.697\n",
       "Other                                       -0.0951      0.062     -1.540      0.125      -0.217       0.026\n",
       "Fever (temperature ≥37·3°C)                  0.0093      0.056      0.165      0.869      -0.101       0.120\n",
       "Cough                                       -0.0726      0.060     -1.205      0.229      -0.191       0.046\n",
       "Myalgia (Muscle Pain)                        0.0375      0.060      0.627      0.531      -0.080       0.155\n",
       "Fatigue                                     -0.1419      0.058     -2.444      0.015      -0.256      -0.028\n",
       "Diarrhoea                                   -0.0709      0.066     -1.067      0.287      -0.202       0.060\n",
       "Nausea or Vomiting                           0.1670      0.072      2.309      0.022       0.025       0.309\n",
       "Disease Severity Asymptomatic               -0.0312      0.101     -0.311      0.756      -0.229       0.167\n",
       "Disease Severity General                     0.0574      0.035      1.633      0.104      -0.012       0.127\n",
       "Disease Severity Severe                      0.0956      0.042      2.256      0.025       0.012       0.179\n",
       "White Blood Cell Count (10^9/L) - Median    -0.0002      0.012     -0.021      0.984      -0.023       0.022\n",
       "White Blood Cell Count (10^9/L) - LQ         0.0373      0.012      3.002      0.003       0.013       0.062\n",
       "White Blood Cell Count (10^9/L) - UQ         0.0081      0.006      1.289      0.198      -0.004       0.021\n",
       "Platelet Count (10^9/L) - Median         -6.802e-05      0.001     -0.094      0.926      -0.001       0.001\n",
       "Platelet Count (10^9/L) - LQ                 0.0001      0.001      0.210      0.834      -0.001       0.001\n",
       "Platelet Count (10^9/L) - UQ                -0.0003      0.000     -0.757      0.449      -0.001       0.000\n",
       "Hemoglobin (g/L) - Median                    0.0008      0.001      1.190      0.235      -0.001       0.002\n",
       "Hemoglobin (g/L) - LQ                        0.0011      0.001      1.886      0.060   -4.71e-05       0.002\n",
       "Antibiotic                                  -0.0297      0.046     -0.645      0.520      -0.120       0.061\n",
       "Hospital length of stay, days               -0.0050      0.002     -2.559      0.011      -0.009      -0.001\n",
       "Severity_All                                -0.2340      0.125     -1.872      0.062      -0.480       0.012\n",
       "Severity_Asymptomatic only                  -0.3146      0.281     -1.119      0.264      -0.868       0.239\n",
       "Severity_Mild only                          -0.2489      0.131     -1.906      0.058      -0.506       0.008\n",
       "Severity_Severe                             -0.0476      0.215     -0.221      0.825      -0.471       0.376\n",
       "Severity_Severe/Critical Only                0.0077      0.127      0.061      0.951      -0.241       0.257\n",
       "Ventilation_Both                             0.0079      0.054      0.146      0.884      -0.098       0.114\n",
       "Ventilation_Non-ventilation only            -0.0153      0.063     -0.242      0.809      -0.140       0.109\n",
       "Ventilation_Yes                             -0.1085      0.118     -0.921      0.358      -0.340       0.123\n",
       "==============================================================================\n",
       "Omnibus:                       42.619   Durbin-Watson:                   1.768\n",
       "Prob(Omnibus):                  0.000   Jarque-Bera (JB):               66.984\n",
       "Skew:                           0.791   Prob(JB):                     2.85e-15\n",
       "Kurtosis:                       4.530   Cond. No.                     9.69e+03\n",
       "==============================================================================\n",
       "\n",
       "Warnings:\n",
       "[1] Standard Errors assume that the covariance matrix of the errors is correctly specified.\n",
       "[2] The condition number is large, 9.69e+03. This might indicate that there are\n",
       "strong multicollinearity or other numerical problems.\n",
       "\"\"\""
      ]
     },
     "execution_count": 415,
     "metadata": {},
     "output_type": "execute_result"
    }
   ],
   "source": [
    "fs1_model.summary()"
   ]
  },
  {
   "cell_type": "markdown",
   "metadata": {},
   "source": [
    "predictions on the new model"
   ]
  },
  {
   "cell_type": "code",
   "execution_count": 416,
   "metadata": {},
   "outputs": [],
   "source": [
    "predfs1=round(fs1_model.predict(testX),2)"
   ]
  },
  {
   "cell_type": "markdown",
   "metadata": {},
   "source": [
    "### Evaluating model"
   ]
  },
  {
   "cell_type": "markdown",
   "metadata": {},
   "source": [
    "Evaluating the feature selected model"
   ]
  },
  {
   "cell_type": "code",
   "execution_count": 417,
   "metadata": {},
   "outputs": [
    {
     "name": "stdout",
     "output_type": "stream",
     "text": [
      "Basemodel Evaluation: SSE=9.5578, MSE=0.0668, MAE=0.195, R2=0.5988\n",
      "Feature Evaluation: SSEf=6.9841, MSEf=0.0488, MAEf=0.1683, R2f=0.5569\n"
     ]
    }
   ],
   "source": [
    "ssef=round(sum((testY-predfs1)**2),4)\n",
    "msef=round(metrics.mean_squared_error(testY, predfs1),4)\n",
    "maef=round(metrics.mean_absolute_error(testY, predfs1),4)\n",
    "r2f=round(fs1_model.rsquared,4)\n",
    "print('Basemodel Evaluation: SSE={}, MSE={}, MAE={}, R2={}'.format(sse,mse,mae,r2))\n",
    "print('Feature Evaluation: SSEf={}, MSEf={}, MAEf={}, R2f={}'.format(ssef,msef,maef,r2f))"
   ]
  },
  {
   "cell_type": "markdown",
   "metadata": {},
   "source": [
    "###### We can see, results obtained using significant feature model are slightly better than basemodel"
   ]
  },
  {
   "cell_type": "markdown",
   "metadata": {},
   "source": [
    "### Scaled Model"
   ]
  },
  {
   "cell_type": "markdown",
   "metadata": {},
   "source": [
    "Scale the numerical features into 0 and 1, to remove skewness"
   ]
  },
  {
   "cell_type": "code",
   "execution_count": 418,
   "metadata": {
    "scrolled": false
   },
   "outputs": [],
   "source": [
    "indx=mortality.columns.get_loc(\"Severity_All\")"
   ]
  },
  {
   "cell_type": "code",
   "execution_count": 419,
   "metadata": {},
   "outputs": [],
   "source": [
    "from sklearn import preprocessing\n",
    "# make a copy of oroginal dataset\n",
    "mortality_std=mortality.copy(deep=True)\n",
    "\n",
    "# convert the data into scaled data\n",
    "totalcols=len(mortality.columns)\n",
    "\n",
    "minmax=preprocessing.MinMaxScaler()\n",
    "scaledvals=minmax.fit_transform(mortality_std.iloc[:,0:indx])\n",
    "\n",
    "mortality_std.iloc[:,0:39]=scaledvals"
   ]
  },
  {
   "cell_type": "code",
   "execution_count": 420,
   "metadata": {
    "scrolled": false
   },
   "outputs": [
    {
     "data": {
      "text/html": [
       "<div>\n",
       "<style scoped>\n",
       "    .dataframe tbody tr th:only-of-type {\n",
       "        vertical-align: middle;\n",
       "    }\n",
       "\n",
       "    .dataframe tbody tr th {\n",
       "        vertical-align: top;\n",
       "    }\n",
       "\n",
       "    .dataframe thead th {\n",
       "        text-align: right;\n",
       "    }\n",
       "</style>\n",
       "<table border=\"1\" class=\"dataframe\">\n",
       "  <thead>\n",
       "    <tr style=\"text-align: right;\">\n",
       "      <th></th>\n",
       "      <th>Mean Age</th>\n",
       "      <th>% Male</th>\n",
       "      <th>Any Comorbidity</th>\n",
       "      <th>Hypertension</th>\n",
       "      <th>Diabetes</th>\n",
       "      <th>Cardiovascular Disease (incl. CAD)</th>\n",
       "      <th>Chronic obstructive lung (COPD)</th>\n",
       "      <th>Cancer (Any)</th>\n",
       "      <th>Liver Disease (any)</th>\n",
       "      <th>Cerebrovascular Disease</th>\n",
       "      <th>...</th>\n",
       "      <th>Severity_Mild only</th>\n",
       "      <th>Severity_Severe</th>\n",
       "      <th>Severity_Severe/Critical Only</th>\n",
       "      <th>Severity_Severe/critical only</th>\n",
       "      <th>Ventilation_Both</th>\n",
       "      <th>Ventilation_No</th>\n",
       "      <th>Ventilation_Non-ventilation only</th>\n",
       "      <th>Ventilation_Ventilation only</th>\n",
       "      <th>Ventilation_Yes</th>\n",
       "      <th>Mortality</th>\n",
       "    </tr>\n",
       "  </thead>\n",
       "  <tbody>\n",
       "    <tr>\n",
       "      <th>0</th>\n",
       "      <td>0.524536</td>\n",
       "      <td>0.6230</td>\n",
       "      <td>0.4760</td>\n",
       "      <td>0.3000</td>\n",
       "      <td>0.1900</td>\n",
       "      <td>0.0800</td>\n",
       "      <td>0.0300</td>\n",
       "      <td>0.0168</td>\n",
       "      <td>0.045248</td>\n",
       "      <td>0.013582</td>\n",
       "      <td>...</td>\n",
       "      <td>0</td>\n",
       "      <td>0</td>\n",
       "      <td>0</td>\n",
       "      <td>0</td>\n",
       "      <td>1</td>\n",
       "      <td>0</td>\n",
       "      <td>0</td>\n",
       "      <td>0</td>\n",
       "      <td>0</td>\n",
       "      <td>0.28</td>\n",
       "    </tr>\n",
       "    <tr>\n",
       "      <th>1</th>\n",
       "      <td>0.524536</td>\n",
       "      <td>0.7037</td>\n",
       "      <td>0.6667</td>\n",
       "      <td>0.4815</td>\n",
       "      <td>0.3148</td>\n",
       "      <td>0.2407</td>\n",
       "      <td>0.0741</td>\n",
       "      <td>0.0000</td>\n",
       "      <td>0.045248</td>\n",
       "      <td>0.013582</td>\n",
       "      <td>...</td>\n",
       "      <td>0</td>\n",
       "      <td>0</td>\n",
       "      <td>1</td>\n",
       "      <td>0</td>\n",
       "      <td>1</td>\n",
       "      <td>0</td>\n",
       "      <td>0</td>\n",
       "      <td>0</td>\n",
       "      <td>0</td>\n",
       "      <td>1.00</td>\n",
       "    </tr>\n",
       "    <tr>\n",
       "      <th>2</th>\n",
       "      <td>0.524536</td>\n",
       "      <td>0.5912</td>\n",
       "      <td>0.4015</td>\n",
       "      <td>0.2336</td>\n",
       "      <td>0.1387</td>\n",
       "      <td>0.0146</td>\n",
       "      <td>0.0146</td>\n",
       "      <td>0.0700</td>\n",
       "      <td>0.045248</td>\n",
       "      <td>0.013582</td>\n",
       "      <td>...</td>\n",
       "      <td>0</td>\n",
       "      <td>0</td>\n",
       "      <td>0</td>\n",
       "      <td>0</td>\n",
       "      <td>1</td>\n",
       "      <td>0</td>\n",
       "      <td>0</td>\n",
       "      <td>0</td>\n",
       "      <td>0</td>\n",
       "      <td>0.00</td>\n",
       "    </tr>\n",
       "    <tr>\n",
       "      <th>3</th>\n",
       "      <td>0.524536</td>\n",
       "      <td>0.6030</td>\n",
       "      <td>0.4015</td>\n",
       "      <td>0.2336</td>\n",
       "      <td>0.1160</td>\n",
       "      <td>0.0146</td>\n",
       "      <td>0.0146</td>\n",
       "      <td>0.0300</td>\n",
       "      <td>0.045248</td>\n",
       "      <td>0.011607</td>\n",
       "      <td>...</td>\n",
       "      <td>0</td>\n",
       "      <td>0</td>\n",
       "      <td>0</td>\n",
       "      <td>0</td>\n",
       "      <td>1</td>\n",
       "      <td>0</td>\n",
       "      <td>0</td>\n",
       "      <td>0</td>\n",
       "      <td>0</td>\n",
       "      <td>0.16</td>\n",
       "    </tr>\n",
       "    <tr>\n",
       "      <th>4</th>\n",
       "      <td>0.524536</td>\n",
       "      <td>0.6160</td>\n",
       "      <td>0.4015</td>\n",
       "      <td>0.2336</td>\n",
       "      <td>0.1010</td>\n",
       "      <td>0.0146</td>\n",
       "      <td>0.0146</td>\n",
       "      <td>0.0510</td>\n",
       "      <td>0.045248</td>\n",
       "      <td>0.009107</td>\n",
       "      <td>...</td>\n",
       "      <td>0</td>\n",
       "      <td>0</td>\n",
       "      <td>0</td>\n",
       "      <td>0</td>\n",
       "      <td>1</td>\n",
       "      <td>0</td>\n",
       "      <td>0</td>\n",
       "      <td>0</td>\n",
       "      <td>0</td>\n",
       "      <td>0.15</td>\n",
       "    </tr>\n",
       "  </tbody>\n",
       "</table>\n",
       "<p>5 rows × 53 columns</p>\n",
       "</div>"
      ],
      "text/plain": [
       "   Mean Age  % Male  Any Comorbidity  Hypertension  Diabetes  \\\n",
       "0  0.524536  0.6230           0.4760        0.3000    0.1900   \n",
       "1  0.524536  0.7037           0.6667        0.4815    0.3148   \n",
       "2  0.524536  0.5912           0.4015        0.2336    0.1387   \n",
       "3  0.524536  0.6030           0.4015        0.2336    0.1160   \n",
       "4  0.524536  0.6160           0.4015        0.2336    0.1010   \n",
       "\n",
       "   Cardiovascular Disease (incl. CAD)  Chronic obstructive lung (COPD)  \\\n",
       "0                              0.0800                           0.0300   \n",
       "1                              0.2407                           0.0741   \n",
       "2                              0.0146                           0.0146   \n",
       "3                              0.0146                           0.0146   \n",
       "4                              0.0146                           0.0146   \n",
       "\n",
       "   Cancer (Any)  Liver Disease (any)  Cerebrovascular Disease  ...  \\\n",
       "0        0.0168             0.045248                 0.013582  ...   \n",
       "1        0.0000             0.045248                 0.013582  ...   \n",
       "2        0.0700             0.045248                 0.013582  ...   \n",
       "3        0.0300             0.045248                 0.011607  ...   \n",
       "4        0.0510             0.045248                 0.009107  ...   \n",
       "\n",
       "   Severity_Mild only  Severity_Severe  Severity_Severe/Critical Only  \\\n",
       "0                   0                0                              0   \n",
       "1                   0                0                              1   \n",
       "2                   0                0                              0   \n",
       "3                   0                0                              0   \n",
       "4                   0                0                              0   \n",
       "\n",
       "   Severity_Severe/critical only  Ventilation_Both  Ventilation_No  \\\n",
       "0                              0                 1               0   \n",
       "1                              0                 1               0   \n",
       "2                              0                 1               0   \n",
       "3                              0                 1               0   \n",
       "4                              0                 1               0   \n",
       "\n",
       "   Ventilation_Non-ventilation only  Ventilation_Ventilation only  \\\n",
       "0                                 0                             0   \n",
       "1                                 0                             0   \n",
       "2                                 0                             0   \n",
       "3                                 0                             0   \n",
       "4                                 0                             0   \n",
       "\n",
       "   Ventilation_Yes  Mortality  \n",
       "0                0       0.28  \n",
       "1                0       1.00  \n",
       "2                0       0.00  \n",
       "3                0       0.16  \n",
       "4                0       0.15  \n",
       "\n",
       "[5 rows x 53 columns]"
      ]
     },
     "execution_count": 420,
     "metadata": {},
     "output_type": "execute_result"
    }
   ],
   "source": [
    "mortality_std.head(5)"
   ]
  },
  {
   "cell_type": "markdown",
   "metadata": {},
   "source": [
    "### Model building"
   ]
  },
  {
   "cell_type": "markdown",
   "metadata": {},
   "source": [
    "Split the dataset into independent and dependent variables, and then into training and validation dataset"
   ]
  },
  {
   "cell_type": "code",
   "execution_count": 421,
   "metadata": {
    "scrolled": false
   },
   "outputs": [
    {
     "name": "stdout",
     "output_type": "stream",
     "text": [
      "train=(332, 53),test=(143, 53)\n",
      "trainX=(332, 35),trainY=(332,),testX=(143, 35),testY=(143,)\n"
     ]
    }
   ],
   "source": [
    "train,test=train_test_split(mortality_std,test_size=0.3)\n",
    "print('train={},test={}'.format(train.shape,test.shape))\n",
    "\n",
    "totalcols=len(mortality1.columns)\n",
    "\n",
    "trainX=train.iloc[:,0:totalcols-1]\n",
    "trainY=train.iloc[:,totalcols-1]\n",
    "\n",
    "testX=test.iloc[:,0:totalcols-1]\n",
    "testY=test.iloc[:,totalcols-1]\n",
    "\n",
    "print('trainX={},trainY={},testX={},testY={}'.format(trainX.shape,trainY.shape,testX.shape,testY.shape))\n"
   ]
  },
  {
   "cell_type": "markdown",
   "metadata": {},
   "source": [
    "Add constant term to the independent variables as sm.OLS does'nt add constant directly into the model building, So we need to add constant manually"
   ]
  },
  {
   "cell_type": "code",
   "execution_count": 422,
   "metadata": {},
   "outputs": [],
   "source": [
    "trainX=sm.add_constant(trainX)\n",
    "testX=sm.add_constant(testX)"
   ]
  },
  {
   "cell_type": "markdown",
   "metadata": {},
   "source": [
    "Build model on scaled data"
   ]
  },
  {
   "cell_type": "code",
   "execution_count": 423,
   "metadata": {},
   "outputs": [],
   "source": [
    "scl_model=sm.OLS(trainY,trainX).fit()"
   ]
  },
  {
   "cell_type": "markdown",
   "metadata": {},
   "source": [
    "Summary of the scaled model"
   ]
  },
  {
   "cell_type": "code",
   "execution_count": 424,
   "metadata": {
    "scrolled": true
   },
   "outputs": [
    {
     "data": {
      "text/html": [
       "<table class=\"simpletable\">\n",
       "<caption>OLS Regression Results</caption>\n",
       "<tr>\n",
       "  <th>Dep. Variable:</th>    <td>Aspartate Aminotransferase (U/L)</td> <th>  R-squared:         </th> <td>   0.712</td>\n",
       "</tr>\n",
       "<tr>\n",
       "  <th>Model:</th>                           <td>OLS</td>               <th>  Adj. R-squared:    </th> <td>   0.678</td>\n",
       "</tr>\n",
       "<tr>\n",
       "  <th>Method:</th>                     <td>Least Squares</td>          <th>  F-statistic:       </th> <td>   20.92</td>\n",
       "</tr>\n",
       "<tr>\n",
       "  <th>Date:</th>                     <td>Mon, 14 Sep 2020</td>         <th>  Prob (F-statistic):</th> <td>6.70e-61</td>\n",
       "</tr>\n",
       "<tr>\n",
       "  <th>Time:</th>                         <td>15:04:03</td>             <th>  Log-Likelihood:    </th> <td>  539.64</td>\n",
       "</tr>\n",
       "<tr>\n",
       "  <th>No. Observations:</th>              <td>   332</td>              <th>  AIC:               </th> <td>  -1007.</td>\n",
       "</tr>\n",
       "<tr>\n",
       "  <th>Df Residuals:</th>                  <td>   296</td>              <th>  BIC:               </th> <td>  -870.3</td>\n",
       "</tr>\n",
       "<tr>\n",
       "  <th>Df Model:</th>                      <td>    35</td>              <th>                     </th>     <td> </td>   \n",
       "</tr>\n",
       "<tr>\n",
       "  <th>Covariance Type:</th>              <td>nonrobust</td>            <th>                     </th>     <td> </td>   \n",
       "</tr>\n",
       "</table>\n",
       "<table class=\"simpletable\">\n",
       "<tr>\n",
       "                      <td></td>                        <th>coef</th>     <th>std err</th>      <th>t</th>      <th>P>|t|</th>  <th>[0.025</th>    <th>0.975]</th>  \n",
       "</tr>\n",
       "<tr>\n",
       "  <th>const</th>                                    <td>   -0.0192</td> <td>    0.028</td> <td>   -0.696</td> <td> 0.487</td> <td>   -0.073</td> <td>    0.035</td>\n",
       "</tr>\n",
       "<tr>\n",
       "  <th>Mean Age</th>                                 <td>    0.0061</td> <td>    0.019</td> <td>    0.313</td> <td> 0.754</td> <td>   -0.032</td> <td>    0.044</td>\n",
       "</tr>\n",
       "<tr>\n",
       "  <th>% Male</th>                                   <td>   -0.0062</td> <td>    0.012</td> <td>   -0.516</td> <td> 0.606</td> <td>   -0.030</td> <td>    0.017</td>\n",
       "</tr>\n",
       "<tr>\n",
       "  <th>Any Comorbidity</th>                          <td>   -0.0047</td> <td>    0.011</td> <td>   -0.420</td> <td> 0.675</td> <td>   -0.027</td> <td>    0.017</td>\n",
       "</tr>\n",
       "<tr>\n",
       "  <th>Hypertension</th>                             <td>    0.0236</td> <td>    0.013</td> <td>    1.769</td> <td> 0.078</td> <td>   -0.003</td> <td>    0.050</td>\n",
       "</tr>\n",
       "<tr>\n",
       "  <th>Diabetes</th>                                 <td>    0.0058</td> <td>    0.018</td> <td>    0.331</td> <td> 0.741</td> <td>   -0.029</td> <td>    0.040</td>\n",
       "</tr>\n",
       "<tr>\n",
       "  <th>Cardiovascular Disease (incl. CAD)</th>       <td>   -0.0050</td> <td>    0.017</td> <td>   -0.298</td> <td> 0.766</td> <td>   -0.038</td> <td>    0.028</td>\n",
       "</tr>\n",
       "<tr>\n",
       "  <th>Chronic obstructive lung (COPD)</th>          <td>    0.0120</td> <td>    0.022</td> <td>    0.553</td> <td> 0.581</td> <td>   -0.031</td> <td>    0.055</td>\n",
       "</tr>\n",
       "<tr>\n",
       "  <th>Cancer (Any)</th>                             <td>   -0.0223</td> <td>    0.015</td> <td>   -1.450</td> <td> 0.148</td> <td>   -0.053</td> <td>    0.008</td>\n",
       "</tr>\n",
       "<tr>\n",
       "  <th>Liver Disease (any)</th>                      <td>    0.1026</td> <td>    0.046</td> <td>    2.224</td> <td> 0.027</td> <td>    0.012</td> <td>    0.193</td>\n",
       "</tr>\n",
       "<tr>\n",
       "  <th>Cerebrovascular Disease</th>                  <td>   -0.0878</td> <td>    0.052</td> <td>   -1.700</td> <td> 0.090</td> <td>   -0.189</td> <td>    0.014</td>\n",
       "</tr>\n",
       "<tr>\n",
       "  <th>Chronic kidney/renal disease</th>             <td>   -0.0530</td> <td>    0.036</td> <td>   -1.465</td> <td> 0.144</td> <td>   -0.124</td> <td>    0.018</td>\n",
       "</tr>\n",
       "<tr>\n",
       "  <th>Other</th>                                    <td>   -0.0121</td> <td>    0.013</td> <td>   -0.945</td> <td> 0.345</td> <td>   -0.037</td> <td>    0.013</td>\n",
       "</tr>\n",
       "<tr>\n",
       "  <th>Fever (temperature ≥37·3°C)</th>              <td>    0.0102</td> <td>    0.013</td> <td>    0.807</td> <td> 0.420</td> <td>   -0.015</td> <td>    0.035</td>\n",
       "</tr>\n",
       "<tr>\n",
       "  <th>Cough</th>                                    <td>    0.0035</td> <td>    0.014</td> <td>    0.259</td> <td> 0.796</td> <td>   -0.023</td> <td>    0.030</td>\n",
       "</tr>\n",
       "<tr>\n",
       "  <th>Shortness of Breath (dyspnoea)</th>           <td>    0.0093</td> <td>    0.012</td> <td>    0.759</td> <td> 0.449</td> <td>   -0.015</td> <td>    0.033</td>\n",
       "</tr>\n",
       "<tr>\n",
       "  <th>Headache</th>                                 <td>    0.0117</td> <td>    0.018</td> <td>    0.662</td> <td> 0.509</td> <td>   -0.023</td> <td>    0.047</td>\n",
       "</tr>\n",
       "<tr>\n",
       "  <th>Sputum (/Expectoration)</th>                  <td>   -0.0229</td> <td>    0.015</td> <td>   -1.532</td> <td> 0.127</td> <td>   -0.052</td> <td>    0.007</td>\n",
       "</tr>\n",
       "<tr>\n",
       "  <th>Myalgia (Muscle Pain)</th>                    <td>   -0.0086</td> <td>    0.013</td> <td>   -0.689</td> <td> 0.491</td> <td>   -0.033</td> <td>    0.016</td>\n",
       "</tr>\n",
       "<tr>\n",
       "  <th>Fatigue</th>                                  <td>    0.0064</td> <td>    0.013</td> <td>    0.504</td> <td> 0.615</td> <td>   -0.018</td> <td>    0.031</td>\n",
       "</tr>\n",
       "<tr>\n",
       "  <th>Diarrhoea</th>                                <td>   -0.0227</td> <td>    0.015</td> <td>   -1.517</td> <td> 0.130</td> <td>   -0.052</td> <td>    0.007</td>\n",
       "</tr>\n",
       "<tr>\n",
       "  <th>Nausea or Vomiting</th>                       <td>   -0.0069</td> <td>    0.015</td> <td>   -0.467</td> <td> 0.641</td> <td>   -0.036</td> <td>    0.022</td>\n",
       "</tr>\n",
       "<tr>\n",
       "  <th>Disease Severity Asymptomatic</th>            <td>    0.0089</td> <td>    0.027</td> <td>    0.333</td> <td> 0.739</td> <td>   -0.044</td> <td>    0.061</td>\n",
       "</tr>\n",
       "<tr>\n",
       "  <th>Disease Severity General</th>                 <td>    0.0170</td> <td>    0.008</td> <td>    2.237</td> <td> 0.026</td> <td>    0.002</td> <td>    0.032</td>\n",
       "</tr>\n",
       "<tr>\n",
       "  <th>Disease Severity Severe</th>                  <td>   -0.0075</td> <td>    0.009</td> <td>   -0.822</td> <td> 0.412</td> <td>   -0.025</td> <td>    0.010</td>\n",
       "</tr>\n",
       "<tr>\n",
       "  <th>Disease Severity Critical</th>                <td>    0.0133</td> <td>    0.008</td> <td>    1.726</td> <td> 0.085</td> <td>   -0.002</td> <td>    0.029</td>\n",
       "</tr>\n",
       "<tr>\n",
       "  <th>White Blood Cell Count (10^9/L) - Median</th> <td>   -0.0702</td> <td>    0.042</td> <td>   -1.663</td> <td> 0.097</td> <td>   -0.153</td> <td>    0.013</td>\n",
       "</tr>\n",
       "<tr>\n",
       "  <th>White Blood Cell Count (10^9/L) - LQ</th>     <td>    0.0975</td> <td>    0.036</td> <td>    2.677</td> <td> 0.008</td> <td>    0.026</td> <td>    0.169</td>\n",
       "</tr>\n",
       "<tr>\n",
       "  <th>White Blood Cell Count (10^9/L) - UQ</th>     <td>    0.0882</td> <td>    0.044</td> <td>    2.008</td> <td> 0.046</td> <td>    0.002</td> <td>    0.175</td>\n",
       "</tr>\n",
       "<tr>\n",
       "  <th>Lymphocyte Count (10^9/L) - Median</th>       <td>   -0.1233</td> <td>    0.047</td> <td>   -2.621</td> <td> 0.009</td> <td>   -0.216</td> <td>   -0.031</td>\n",
       "</tr>\n",
       "<tr>\n",
       "  <th>Platelet Count (10^9/L) - Median</th>         <td>   -0.1333</td> <td>    0.049</td> <td>   -2.693</td> <td> 0.007</td> <td>   -0.231</td> <td>   -0.036</td>\n",
       "</tr>\n",
       "<tr>\n",
       "  <th>Platelet Count (10^9/L) - LQ</th>             <td>    0.0717</td> <td>    0.041</td> <td>    1.744</td> <td> 0.082</td> <td>   -0.009</td> <td>    0.152</td>\n",
       "</tr>\n",
       "<tr>\n",
       "  <th>Platelet Count (10^9/L) - UQ</th>             <td>   -0.0692</td> <td>    0.039</td> <td>   -1.766</td> <td> 0.078</td> <td>   -0.146</td> <td>    0.008</td>\n",
       "</tr>\n",
       "<tr>\n",
       "  <th>Hemoglobin (g/L) - Median</th>                <td>    0.0354</td> <td>    0.020</td> <td>    1.804</td> <td> 0.072</td> <td>   -0.003</td> <td>    0.074</td>\n",
       "</tr>\n",
       "<tr>\n",
       "  <th>Hemoglobin (g/L) - LQ</th>                    <td>    0.0044</td> <td>    0.017</td> <td>    0.259</td> <td> 0.796</td> <td>   -0.029</td> <td>    0.038</td>\n",
       "</tr>\n",
       "<tr>\n",
       "  <th>Alanine Aminotransferase (U/L)</th>           <td>    0.6532</td> <td>    0.031</td> <td>   21.237</td> <td> 0.000</td> <td>    0.593</td> <td>    0.714</td>\n",
       "</tr>\n",
       "</table>\n",
       "<table class=\"simpletable\">\n",
       "<tr>\n",
       "  <th>Omnibus:</th>       <td>434.725</td> <th>  Durbin-Watson:     </th> <td>   1.986</td> \n",
       "</tr>\n",
       "<tr>\n",
       "  <th>Prob(Omnibus):</th> <td> 0.000</td>  <th>  Jarque-Bera (JB):  </th> <td>70228.961</td>\n",
       "</tr>\n",
       "<tr>\n",
       "  <th>Skew:</th>          <td> 5.903</td>  <th>  Prob(JB):          </th> <td>    0.00</td> \n",
       "</tr>\n",
       "<tr>\n",
       "  <th>Kurtosis:</th>      <td>73.267</td>  <th>  Cond. No.          </th> <td>    53.1</td> \n",
       "</tr>\n",
       "</table><br/><br/>Warnings:<br/>[1] Standard Errors assume that the covariance matrix of the errors is correctly specified."
      ],
      "text/plain": [
       "<class 'statsmodels.iolib.summary.Summary'>\n",
       "\"\"\"\n",
       "                                   OLS Regression Results                                   \n",
       "============================================================================================\n",
       "Dep. Variable:     Aspartate Aminotransferase (U/L)   R-squared:                       0.712\n",
       "Model:                                          OLS   Adj. R-squared:                  0.678\n",
       "Method:                               Least Squares   F-statistic:                     20.92\n",
       "Date:                              Mon, 14 Sep 2020   Prob (F-statistic):           6.70e-61\n",
       "Time:                                      15:04:03   Log-Likelihood:                 539.64\n",
       "No. Observations:                               332   AIC:                            -1007.\n",
       "Df Residuals:                                   296   BIC:                            -870.3\n",
       "Df Model:                                        35                                         \n",
       "Covariance Type:                          nonrobust                                         \n",
       "============================================================================================================\n",
       "                                               coef    std err          t      P>|t|      [0.025      0.975]\n",
       "------------------------------------------------------------------------------------------------------------\n",
       "const                                       -0.0192      0.028     -0.696      0.487      -0.073       0.035\n",
       "Mean Age                                     0.0061      0.019      0.313      0.754      -0.032       0.044\n",
       "% Male                                      -0.0062      0.012     -0.516      0.606      -0.030       0.017\n",
       "Any Comorbidity                             -0.0047      0.011     -0.420      0.675      -0.027       0.017\n",
       "Hypertension                                 0.0236      0.013      1.769      0.078      -0.003       0.050\n",
       "Diabetes                                     0.0058      0.018      0.331      0.741      -0.029       0.040\n",
       "Cardiovascular Disease (incl. CAD)          -0.0050      0.017     -0.298      0.766      -0.038       0.028\n",
       "Chronic obstructive lung (COPD)              0.0120      0.022      0.553      0.581      -0.031       0.055\n",
       "Cancer (Any)                                -0.0223      0.015     -1.450      0.148      -0.053       0.008\n",
       "Liver Disease (any)                          0.1026      0.046      2.224      0.027       0.012       0.193\n",
       "Cerebrovascular Disease                     -0.0878      0.052     -1.700      0.090      -0.189       0.014\n",
       "Chronic kidney/renal disease                -0.0530      0.036     -1.465      0.144      -0.124       0.018\n",
       "Other                                       -0.0121      0.013     -0.945      0.345      -0.037       0.013\n",
       "Fever (temperature ≥37·3°C)                  0.0102      0.013      0.807      0.420      -0.015       0.035\n",
       "Cough                                        0.0035      0.014      0.259      0.796      -0.023       0.030\n",
       "Shortness of Breath (dyspnoea)               0.0093      0.012      0.759      0.449      -0.015       0.033\n",
       "Headache                                     0.0117      0.018      0.662      0.509      -0.023       0.047\n",
       "Sputum (/Expectoration)                     -0.0229      0.015     -1.532      0.127      -0.052       0.007\n",
       "Myalgia (Muscle Pain)                       -0.0086      0.013     -0.689      0.491      -0.033       0.016\n",
       "Fatigue                                      0.0064      0.013      0.504      0.615      -0.018       0.031\n",
       "Diarrhoea                                   -0.0227      0.015     -1.517      0.130      -0.052       0.007\n",
       "Nausea or Vomiting                          -0.0069      0.015     -0.467      0.641      -0.036       0.022\n",
       "Disease Severity Asymptomatic                0.0089      0.027      0.333      0.739      -0.044       0.061\n",
       "Disease Severity General                     0.0170      0.008      2.237      0.026       0.002       0.032\n",
       "Disease Severity Severe                     -0.0075      0.009     -0.822      0.412      -0.025       0.010\n",
       "Disease Severity Critical                    0.0133      0.008      1.726      0.085      -0.002       0.029\n",
       "White Blood Cell Count (10^9/L) - Median    -0.0702      0.042     -1.663      0.097      -0.153       0.013\n",
       "White Blood Cell Count (10^9/L) - LQ         0.0975      0.036      2.677      0.008       0.026       0.169\n",
       "White Blood Cell Count (10^9/L) - UQ         0.0882      0.044      2.008      0.046       0.002       0.175\n",
       "Lymphocyte Count (10^9/L) - Median          -0.1233      0.047     -2.621      0.009      -0.216      -0.031\n",
       "Platelet Count (10^9/L) - Median            -0.1333      0.049     -2.693      0.007      -0.231      -0.036\n",
       "Platelet Count (10^9/L) - LQ                 0.0717      0.041      1.744      0.082      -0.009       0.152\n",
       "Platelet Count (10^9/L) - UQ                -0.0692      0.039     -1.766      0.078      -0.146       0.008\n",
       "Hemoglobin (g/L) - Median                    0.0354      0.020      1.804      0.072      -0.003       0.074\n",
       "Hemoglobin (g/L) - LQ                        0.0044      0.017      0.259      0.796      -0.029       0.038\n",
       "Alanine Aminotransferase (U/L)               0.6532      0.031     21.237      0.000       0.593       0.714\n",
       "==============================================================================\n",
       "Omnibus:                      434.725   Durbin-Watson:                   1.986\n",
       "Prob(Omnibus):                  0.000   Jarque-Bera (JB):            70228.961\n",
       "Skew:                           5.903   Prob(JB):                         0.00\n",
       "Kurtosis:                      73.267   Cond. No.                         53.1\n",
       "==============================================================================\n",
       "\n",
       "Warnings:\n",
       "[1] Standard Errors assume that the covariance matrix of the errors is correctly specified.\n",
       "\"\"\""
      ]
     },
     "execution_count": 424,
     "metadata": {},
     "output_type": "execute_result"
    }
   ],
   "source": [
    "scl_model.summary()"
   ]
  },
  {
   "cell_type": "markdown",
   "metadata": {},
   "source": [
    "Predictions on the scaled model"
   ]
  },
  {
   "cell_type": "code",
   "execution_count": 425,
   "metadata": {},
   "outputs": [],
   "source": [
    "predscl=round(scl_model.predict(testX),2)"
   ]
  },
  {
   "cell_type": "markdown",
   "metadata": {},
   "source": [
    "### Evaluation"
   ]
  },
  {
   "cell_type": "markdown",
   "metadata": {},
   "source": [
    "Evaluating the sclaed model"
   ]
  },
  {
   "cell_type": "code",
   "execution_count": 426,
   "metadata": {
    "scrolled": false
   },
   "outputs": [
    {
     "name": "stdout",
     "output_type": "stream",
     "text": [
      "Basemodel Evaluation: SSE=9.5578, MSE=0.0668, MAE=0.195, R2=0.5988\n",
      "Feature Evaluation: SSEf=6.9841, MSEf=0.0488, MAEf=0.1683, R2f=0.5569\n",
      "Scaled Evaluation: SSEs=0.2567, MSEs=0.0018, MAEs=0.029, R2s=0.7122\n"
     ]
    }
   ],
   "source": [
    "sses=round(sum((testY-predscl)**2),4)\n",
    "mses=round(metrics.mean_squared_error(testY, predscl),4)\n",
    "maes=round(metrics.mean_absolute_error(testY, predscl),4)\n",
    "r2s=round(scl_model.rsquared,4)\n",
    "print('Basemodel Evaluation: SSE={}, MSE={}, MAE={}, R2={}'.format(sse,mse, mae,r2))\n",
    "print('Feature Evaluation: SSEf={}, MSEf={}, MAEf={}, R2f={}'.format(ssef,msef, maef, r2f))\n",
    "print('Scaled Evaluation: SSEs={}, MSEs={}, MAEs={}, R2s={}'.format(sses,mses, maes, r2s))"
   ]
  },
  {
   "cell_type": "markdown",
   "metadata": {},
   "source": [
    "###### From above evaluation metrics it is clear that best results were obtained using scaled data"
   ]
  },
  {
   "cell_type": "markdown",
   "metadata": {},
   "source": [
    "Store the predicted validation data in a dataframe"
   ]
  },
  {
   "cell_type": "code",
   "execution_count": 427,
   "metadata": {
    "scrolled": true
   },
   "outputs": [
    {
     "name": "stdout",
     "output_type": "stream",
     "text": [
      "       actual  prediction\n",
      "407  0.108760        0.11\n",
      "359  0.132874        0.08\n",
      "121  0.275591        0.18\n",
      "268  0.103346        0.11\n",
      "243  0.175197        0.13\n",
      "118  0.068898        0.19\n",
      "299  0.226378        0.04\n",
      "349  0.074213        0.07\n",
      "155  0.148376        0.17\n",
      "105  0.108760        0.08\n"
     ]
    }
   ],
   "source": [
    "dataframe={'actual':testY,'prediction':predscl}\n",
    "dataframe=pd.DataFrame(dataframe)\n",
    "print(dataframe.head(10))"
   ]
  },
  {
   "cell_type": "markdown",
   "metadata": {},
   "source": [
    "### Out of the 3 build models, the best model by considering evaluation metrics is Scaled model i.e. third model"
   ]
  },
  {
   "cell_type": "markdown",
   "metadata": {},
   "source": [
    "Now, using scaled model we can pedict mortality rate of any patient using required attributes.\n",
    "Mortlity rate can be predicted with less amount of attributes by builing a model on common attributes."
   ]
  },
  {
   "cell_type": "markdown",
   "metadata": {},
   "source": [
    "## Thank you!"
   ]
  }
 ],
 "metadata": {
  "kernelspec": {
   "display_name": "Python 3",
   "language": "python",
   "name": "python3"
  },
  "language_info": {
   "codemirror_mode": {
    "name": "ipython",
    "version": 3
   },
   "file_extension": ".py",
   "mimetype": "text/x-python",
   "name": "python",
   "nbconvert_exporter": "python",
   "pygments_lexer": "ipython3",
   "version": "3.7.3"
  }
 },
 "nbformat": 4,
 "nbformat_minor": 2
}
